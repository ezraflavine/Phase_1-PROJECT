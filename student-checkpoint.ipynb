{
 "cells": [
  {
   "cell_type": "markdown",
   "metadata": {},
   "source": [
    "## Final Project Submission\n",
    "\n",
    "Please fill out:\n",
    "* Student name: Flavine Atieno\n",
    "* Student pace: Part Time\n",
    "* Scheduled project review date/time:By 24th July 2023\n",
    "* Instructor name: Stella Waithera\n",
    "* Blog post URL:\n"
   ]
  },
  {
   "cell_type": "markdown",
   "metadata": {},
   "source": [
    "# Overview\n",
    "\n",
    "This project is aimed to conduct an exploratory data analysis to provide valuable insights for Microsoft's new movie studio venture. Microsoft aims to enter the movie industry by creating original video content, but they lack expertise in the field. Our task is to explore the types of films that are currently performing well at the box office and translate these findings into actionable recommendations for the head of Microsoft's new movie studio.\n",
    "\n",
    "# Business Problem\n",
    "\n",
    "Microsoft seeks to establish a new movie studio and capitalize on the success of original video content. However, lacking experience in the film industry, they are uncertain about the types of films that resonate with audiences and perform well at the box office. The goal here is to conduct data analysis on various movie datasets to identify successful film trends and provide actionable insights to guide Microsoft in their film production decisions.\n",
    "\n",
    "# Data Understanding\n",
    "\n",
    "We have already been provided with the data to use that involves 3 tables of datasets, that contains the ID of the movies, their titles, start_year, genres, studio and year of release and so on.\n",
    "The data sources include; movie datasets from Box Office Mojo, IMDb, Rotten Tomatoes, TheMovieDB, and The Numbers. However, for this project, I will use the following dataframes:\n",
    "\n",
    "1.imdb.title.basics\n",
    "\n",
    "2.imdb.title.ratings\n",
    "\n",
    "3.bom.movie_gross"
   ]
  },
  {
   "cell_type": "markdown",
   "metadata": {},
   "source": [
    "We start by importing all the necessary packages that are to be used in the data analysis of these project."
   ]
  },
  {
   "cell_type": "code",
   "execution_count": 1,
   "metadata": {},
   "outputs": [],
   "source": [
    "# import the necessary packages\n",
    "import pandas as pd\n",
    "import numpy as np\n",
    "import matplotlib.pyplot as plt\n",
    "%matplotlib inline\n",
    "import seaborn as sns"
   ]
  },
  {
   "cell_type": "code",
   "execution_count": 2,
   "metadata": {},
   "outputs": [],
   "source": [
    "# load the data sets\n",
    "basics = pd.read_csv(\"title.basics.csv\")\n",
    "ratings = pd.read_csv(\"title.ratings.csv\")\n",
    "gross = pd.read_csv(\"bom.movie_gross.csv\")"
   ]
  },
  {
   "cell_type": "code",
   "execution_count": 3,
   "metadata": {},
   "outputs": [
    {
     "name": "stdout",
     "output_type": "stream",
     "text": [
      "<class 'pandas.core.frame.DataFrame'>\n",
      "RangeIndex: 146144 entries, 0 to 146143\n",
      "Data columns (total 6 columns):\n",
      " #   Column           Non-Null Count   Dtype  \n",
      "---  ------           --------------   -----  \n",
      " 0   tconst           146144 non-null  object \n",
      " 1   primary_title    146144 non-null  object \n",
      " 2   original_title   146123 non-null  object \n",
      " 3   start_year       146144 non-null  int64  \n",
      " 4   runtime_minutes  114405 non-null  float64\n",
      " 5   genres           140736 non-null  object \n",
      "dtypes: float64(1), int64(1), object(4)\n",
      "memory usage: 6.7+ MB\n"
     ]
    }
   ],
   "source": [
    "basics.info()"
   ]
  },
  {
   "cell_type": "code",
   "execution_count": 4,
   "metadata": {},
   "outputs": [
    {
     "data": {
      "text/plain": [
       "(146144, 6)"
      ]
     },
     "execution_count": 4,
     "metadata": {},
     "output_type": "execute_result"
    }
   ],
   "source": [
    "basics.shape"
   ]
  },
  {
   "cell_type": "code",
   "execution_count": 5,
   "metadata": {},
   "outputs": [
    {
     "name": "stdout",
     "output_type": "stream",
     "text": [
      "<class 'pandas.core.frame.DataFrame'>\n",
      "RangeIndex: 73856 entries, 0 to 73855\n",
      "Data columns (total 3 columns):\n",
      " #   Column         Non-Null Count  Dtype  \n",
      "---  ------         --------------  -----  \n",
      " 0   tconst         73856 non-null  object \n",
      " 1   averagerating  73856 non-null  float64\n",
      " 2   numvotes       73856 non-null  int64  \n",
      "dtypes: float64(1), int64(1), object(1)\n",
      "memory usage: 1.7+ MB\n"
     ]
    }
   ],
   "source": [
    "ratings.info()"
   ]
  },
  {
   "cell_type": "code",
   "execution_count": 6,
   "metadata": {},
   "outputs": [
    {
     "data": {
      "text/plain": [
       "(73856, 3)"
      ]
     },
     "execution_count": 6,
     "metadata": {},
     "output_type": "execute_result"
    }
   ],
   "source": [
    "ratings.shape"
   ]
  },
  {
   "cell_type": "code",
   "execution_count": 7,
   "metadata": {},
   "outputs": [
    {
     "name": "stdout",
     "output_type": "stream",
     "text": [
      "<class 'pandas.core.frame.DataFrame'>\n",
      "RangeIndex: 3387 entries, 0 to 3386\n",
      "Data columns (total 5 columns):\n",
      " #   Column          Non-Null Count  Dtype  \n",
      "---  ------          --------------  -----  \n",
      " 0   title           3387 non-null   object \n",
      " 1   studio          3382 non-null   object \n",
      " 2   domestic_gross  3359 non-null   float64\n",
      " 3   foreign_gross   2037 non-null   object \n",
      " 4   year            3387 non-null   int64  \n",
      "dtypes: float64(1), int64(1), object(3)\n",
      "memory usage: 132.4+ KB\n"
     ]
    }
   ],
   "source": [
    "gross.info()"
   ]
  },
  {
   "cell_type": "code",
   "execution_count": 8,
   "metadata": {},
   "outputs": [
    {
     "data": {
      "text/plain": [
       "(3387, 5)"
      ]
     },
     "execution_count": 8,
     "metadata": {},
     "output_type": "execute_result"
    }
   ],
   "source": [
    "gross.shape"
   ]
  },
  {
   "cell_type": "markdown",
   "metadata": {},
   "source": [
    "# Data Cleaning\n",
    "Before we embark on the analysis process we need to make sure that the data we have is cleaned to handle missing values, remove duplicates, and ensure data consistency."
   ]
  },
  {
   "cell_type": "code",
   "execution_count": 9,
   "metadata": {
    "scrolled": true
   },
   "outputs": [
    {
     "data": {
      "text/html": [
       "<div>\n",
       "<style scoped>\n",
       "    .dataframe tbody tr th:only-of-type {\n",
       "        vertical-align: middle;\n",
       "    }\n",
       "\n",
       "    .dataframe tbody tr th {\n",
       "        vertical-align: top;\n",
       "    }\n",
       "\n",
       "    .dataframe thead th {\n",
       "        text-align: right;\n",
       "    }\n",
       "</style>\n",
       "<table border=\"1\" class=\"dataframe\">\n",
       "  <thead>\n",
       "    <tr style=\"text-align: right;\">\n",
       "      <th></th>\n",
       "      <th>tconst</th>\n",
       "      <th>primary_title</th>\n",
       "      <th>original_title</th>\n",
       "      <th>start_year</th>\n",
       "      <th>runtime_minutes</th>\n",
       "      <th>genres</th>\n",
       "    </tr>\n",
       "  </thead>\n",
       "  <tbody>\n",
       "    <tr>\n",
       "      <th>0</th>\n",
       "      <td>tt0063540</td>\n",
       "      <td>Sunghursh</td>\n",
       "      <td>Sunghursh</td>\n",
       "      <td>2013</td>\n",
       "      <td>175.0</td>\n",
       "      <td>Action,Crime,Drama</td>\n",
       "    </tr>\n",
       "    <tr>\n",
       "      <th>1</th>\n",
       "      <td>tt0066787</td>\n",
       "      <td>One Day Before the Rainy Season</td>\n",
       "      <td>Ashad Ka Ek Din</td>\n",
       "      <td>2019</td>\n",
       "      <td>114.0</td>\n",
       "      <td>Biography,Drama</td>\n",
       "    </tr>\n",
       "    <tr>\n",
       "      <th>2</th>\n",
       "      <td>tt0069049</td>\n",
       "      <td>The Other Side of the Wind</td>\n",
       "      <td>The Other Side of the Wind</td>\n",
       "      <td>2018</td>\n",
       "      <td>122.0</td>\n",
       "      <td>Drama</td>\n",
       "    </tr>\n",
       "    <tr>\n",
       "      <th>3</th>\n",
       "      <td>tt0069204</td>\n",
       "      <td>Sabse Bada Sukh</td>\n",
       "      <td>Sabse Bada Sukh</td>\n",
       "      <td>2018</td>\n",
       "      <td>NaN</td>\n",
       "      <td>Comedy,Drama</td>\n",
       "    </tr>\n",
       "    <tr>\n",
       "      <th>4</th>\n",
       "      <td>tt0100275</td>\n",
       "      <td>The Wandering Soap Opera</td>\n",
       "      <td>La Telenovela Errante</td>\n",
       "      <td>2017</td>\n",
       "      <td>80.0</td>\n",
       "      <td>Comedy,Drama,Fantasy</td>\n",
       "    </tr>\n",
       "  </tbody>\n",
       "</table>\n",
       "</div>"
      ],
      "text/plain": [
       "      tconst                    primary_title              original_title  \\\n",
       "0  tt0063540                        Sunghursh                   Sunghursh   \n",
       "1  tt0066787  One Day Before the Rainy Season             Ashad Ka Ek Din   \n",
       "2  tt0069049       The Other Side of the Wind  The Other Side of the Wind   \n",
       "3  tt0069204                  Sabse Bada Sukh             Sabse Bada Sukh   \n",
       "4  tt0100275         The Wandering Soap Opera       La Telenovela Errante   \n",
       "\n",
       "   start_year  runtime_minutes                genres  \n",
       "0        2013            175.0    Action,Crime,Drama  \n",
       "1        2019            114.0       Biography,Drama  \n",
       "2        2018            122.0                 Drama  \n",
       "3        2018              NaN          Comedy,Drama  \n",
       "4        2017             80.0  Comedy,Drama,Fantasy  "
      ]
     },
     "execution_count": 9,
     "metadata": {},
     "output_type": "execute_result"
    }
   ],
   "source": [
    "basics.head()"
   ]
  },
  {
   "cell_type": "markdown",
   "metadata": {},
   "source": [
    "Basics Dataset\n",
    "Contains the uniqueID of the movies as 'tconst', we have the movie titles, primary_title, original_title(which mostly is in a foreign language), the start_year of the movies, runtime_minutes and the genres"
   ]
  },
  {
   "cell_type": "code",
   "execution_count": 10,
   "metadata": {},
   "outputs": [
    {
     "data": {
      "text/plain": [
       "tconst             False\n",
       "primary_title      False\n",
       "original_title      True\n",
       "start_year         False\n",
       "runtime_minutes     True\n",
       "genres              True\n",
       "dtype: bool"
      ]
     },
     "execution_count": 10,
     "metadata": {},
     "output_type": "execute_result"
    }
   ],
   "source": [
    "#check whether the basics data contains missing values for each column\n",
    "missing_values = basics.isnull().any(axis=0)\n",
    "missing_values"
   ]
  },
  {
   "cell_type": "code",
   "execution_count": 11,
   "metadata": {},
   "outputs": [
    {
     "data": {
      "text/plain": [
       "tconst                 0\n",
       "primary_title          0\n",
       "original_title        21\n",
       "start_year             0\n",
       "runtime_minutes    31739\n",
       "genres              5408\n",
       "dtype: int64"
      ]
     },
     "execution_count": 11,
     "metadata": {},
     "output_type": "execute_result"
    }
   ],
   "source": [
    "# count the number of missing values in the basics dataframe\n",
    "missing_value_counts = basics.isna().sum()\n",
    "missing_value_counts"
   ]
  },
  {
   "cell_type": "code",
   "execution_count": 12,
   "metadata": {},
   "outputs": [
    {
     "name": "stdout",
     "output_type": "stream",
     "text": [
      "Percentage of missing values in the 'runtime_minutes' column: 21.72%\n",
      "Percentage of missing values in the 'genres' column: 3.70%\n"
     ]
    }
   ],
   "source": [
    "# we will deal with the runtime_minutes column first, then go to the genres column\n",
    "# determine the missing percentages\n",
    "missing_percentage = basics['runtime_minutes'].isna().mean() * 100\n",
    "print(\"Percentage of missing values in the 'runtime_minutes' column: {:.2f}%\".format(missing_percentage))\n",
    "\n",
    "missing_percentage = basics['genres'].isna().mean() * 100\n",
    "print(\"Percentage of missing values in the 'genres' column: {:.2f}%\".format(missing_percentage))\n"
   ]
  },
  {
   "cell_type": "code",
   "execution_count": 13,
   "metadata": {},
   "outputs": [],
   "source": [
    "# Impute NaN entries with mean of the column\n",
    "mean_runtime = basics['runtime_minutes'].mean()\n",
    "basics['runtime_minutes'].fillna(mean_runtime, inplace=True)"
   ]
  },
  {
   "cell_type": "code",
   "execution_count": 14,
   "metadata": {},
   "outputs": [],
   "source": [
    "# Drop rows with missing 'original_title'\n",
    "basics.dropna(subset=['original_title'], inplace=True)"
   ]
  },
  {
   "cell_type": "code",
   "execution_count": 15,
   "metadata": {},
   "outputs": [],
   "source": [
    "# Impute missing values in 'genres' with 'Unknown'\n",
    "basics['genres'].fillna('Unknown', inplace=True)"
   ]
  },
  {
   "cell_type": "code",
   "execution_count": 16,
   "metadata": {},
   "outputs": [],
   "source": [
    "# Convert release year to datetime data type ('start_Year')\n",
    "basics['start_year'] = pd.to_datetime(basics['start_year'], format='%Y', errors='coerce')"
   ]
  },
  {
   "cell_type": "code",
   "execution_count": 17,
   "metadata": {},
   "outputs": [
    {
     "name": "stdout",
     "output_type": "stream",
     "text": [
      "Empty DataFrame\n",
      "Columns: [tconst, primary_title, original_title, start_year, runtime_minutes, genres]\n",
      "Index: []\n"
     ]
    }
   ],
   "source": [
    "# Get the columns with duplicates\n",
    "duplicate_rows = basics[basics.duplicated(keep=False)]\n",
    "\n",
    "# Display the duplicate rows and the output clearly tells us that the our column tconst has no duplicates\n",
    "print(duplicate_rows)"
   ]
  },
  {
   "cell_type": "code",
   "execution_count": 18,
   "metadata": {},
   "outputs": [],
   "source": [
    "# strip white spaces and special characters in the basics dataframe\n",
    "basics['original_title'] = basics['original_title'].str.replace(r'[()!@#$%^&*]', '', regex=True)\n",
    "basics['primary_title'] = basics['primary_title'].str.replace(r'[()!@#$%^&*]', '', regex=True)"
   ]
  },
  {
   "cell_type": "code",
   "execution_count": 19,
   "metadata": {},
   "outputs": [
    {
     "data": {
      "text/plain": [
       "tconst             0\n",
       "primary_title      0\n",
       "original_title     0\n",
       "start_year         0\n",
       "runtime_minutes    0\n",
       "genres             0\n",
       "dtype: int64"
      ]
     },
     "execution_count": 19,
     "metadata": {},
     "output_type": "execute_result"
    }
   ],
   "source": [
    "# check any remaining missing data in the basics dataframe\n",
    "missing_value_counts = basics.isna().sum()\n",
    "missing_value_counts"
   ]
  },
  {
   "cell_type": "code",
   "execution_count": 20,
   "metadata": {},
   "outputs": [
    {
     "data": {
      "text/html": [
       "<div>\n",
       "<style scoped>\n",
       "    .dataframe tbody tr th:only-of-type {\n",
       "        vertical-align: middle;\n",
       "    }\n",
       "\n",
       "    .dataframe tbody tr th {\n",
       "        vertical-align: top;\n",
       "    }\n",
       "\n",
       "    .dataframe thead th {\n",
       "        text-align: right;\n",
       "    }\n",
       "</style>\n",
       "<table border=\"1\" class=\"dataframe\">\n",
       "  <thead>\n",
       "    <tr style=\"text-align: right;\">\n",
       "      <th></th>\n",
       "      <th>tconst</th>\n",
       "      <th>primary_title</th>\n",
       "      <th>original_title</th>\n",
       "      <th>start_year</th>\n",
       "      <th>runtime_minutes</th>\n",
       "      <th>genres</th>\n",
       "    </tr>\n",
       "  </thead>\n",
       "  <tbody>\n",
       "    <tr>\n",
       "      <th>0</th>\n",
       "      <td>tt0063540</td>\n",
       "      <td>Sunghursh</td>\n",
       "      <td>Sunghursh</td>\n",
       "      <td>2013-01-01</td>\n",
       "      <td>175.000000</td>\n",
       "      <td>Action,Crime,Drama</td>\n",
       "    </tr>\n",
       "    <tr>\n",
       "      <th>1</th>\n",
       "      <td>tt0066787</td>\n",
       "      <td>One Day Before the Rainy Season</td>\n",
       "      <td>Ashad Ka Ek Din</td>\n",
       "      <td>2019-01-01</td>\n",
       "      <td>114.000000</td>\n",
       "      <td>Biography,Drama</td>\n",
       "    </tr>\n",
       "    <tr>\n",
       "      <th>2</th>\n",
       "      <td>tt0069049</td>\n",
       "      <td>The Other Side of the Wind</td>\n",
       "      <td>The Other Side of the Wind</td>\n",
       "      <td>2018-01-01</td>\n",
       "      <td>122.000000</td>\n",
       "      <td>Drama</td>\n",
       "    </tr>\n",
       "    <tr>\n",
       "      <th>3</th>\n",
       "      <td>tt0069204</td>\n",
       "      <td>Sabse Bada Sukh</td>\n",
       "      <td>Sabse Bada Sukh</td>\n",
       "      <td>2018-01-01</td>\n",
       "      <td>86.187247</td>\n",
       "      <td>Comedy,Drama</td>\n",
       "    </tr>\n",
       "    <tr>\n",
       "      <th>4</th>\n",
       "      <td>tt0100275</td>\n",
       "      <td>The Wandering Soap Opera</td>\n",
       "      <td>La Telenovela Errante</td>\n",
       "      <td>2017-01-01</td>\n",
       "      <td>80.000000</td>\n",
       "      <td>Comedy,Drama,Fantasy</td>\n",
       "    </tr>\n",
       "    <tr>\n",
       "      <th>...</th>\n",
       "      <td>...</td>\n",
       "      <td>...</td>\n",
       "      <td>...</td>\n",
       "      <td>...</td>\n",
       "      <td>...</td>\n",
       "      <td>...</td>\n",
       "    </tr>\n",
       "    <tr>\n",
       "      <th>146119</th>\n",
       "      <td>tt9913594</td>\n",
       "      <td>Bacchanalia</td>\n",
       "      <td>Bacchanalia</td>\n",
       "      <td>2017-01-01</td>\n",
       "      <td>72.000000</td>\n",
       "      <td>Drama,Mystery,Thriller</td>\n",
       "    </tr>\n",
       "    <tr>\n",
       "      <th>146120</th>\n",
       "      <td>tt9913936</td>\n",
       "      <td>Paradise</td>\n",
       "      <td>Paradise</td>\n",
       "      <td>2019-01-01</td>\n",
       "      <td>86.187247</td>\n",
       "      <td>Crime,Drama</td>\n",
       "    </tr>\n",
       "    <tr>\n",
       "      <th>146121</th>\n",
       "      <td>tt9914254</td>\n",
       "      <td>A Cherry Tale</td>\n",
       "      <td>Kirsebæreventyret</td>\n",
       "      <td>2019-01-01</td>\n",
       "      <td>85.000000</td>\n",
       "      <td>Documentary</td>\n",
       "    </tr>\n",
       "    <tr>\n",
       "      <th>146122</th>\n",
       "      <td>tt9914286</td>\n",
       "      <td>Sokagin Çocuklari</td>\n",
       "      <td>Sokagin Çocuklari</td>\n",
       "      <td>2019-01-01</td>\n",
       "      <td>98.000000</td>\n",
       "      <td>Drama,Family</td>\n",
       "    </tr>\n",
       "    <tr>\n",
       "      <th>146123</th>\n",
       "      <td>tt9914368</td>\n",
       "      <td>Kuttram Seiyel</td>\n",
       "      <td>Kuttram Seiyel</td>\n",
       "      <td>2019-01-01</td>\n",
       "      <td>86.187247</td>\n",
       "      <td>Action,Crime</td>\n",
       "    </tr>\n",
       "  </tbody>\n",
       "</table>\n",
       "<p>146103 rows × 6 columns</p>\n",
       "</div>"
      ],
      "text/plain": [
       "           tconst                    primary_title  \\\n",
       "0       tt0063540                        Sunghursh   \n",
       "1       tt0066787  One Day Before the Rainy Season   \n",
       "2       tt0069049       The Other Side of the Wind   \n",
       "3       tt0069204                  Sabse Bada Sukh   \n",
       "4       tt0100275         The Wandering Soap Opera   \n",
       "...           ...                              ...   \n",
       "146119  tt9913594                      Bacchanalia   \n",
       "146120  tt9913936                         Paradise   \n",
       "146121  tt9914254                    A Cherry Tale   \n",
       "146122  tt9914286                Sokagin Çocuklari   \n",
       "146123  tt9914368                   Kuttram Seiyel   \n",
       "\n",
       "                    original_title start_year  runtime_minutes  \\\n",
       "0                        Sunghursh 2013-01-01       175.000000   \n",
       "1                  Ashad Ka Ek Din 2019-01-01       114.000000   \n",
       "2       The Other Side of the Wind 2018-01-01       122.000000   \n",
       "3                  Sabse Bada Sukh 2018-01-01        86.187247   \n",
       "4            La Telenovela Errante 2017-01-01        80.000000   \n",
       "...                            ...        ...              ...   \n",
       "146119                 Bacchanalia 2017-01-01        72.000000   \n",
       "146120                    Paradise 2019-01-01        86.187247   \n",
       "146121           Kirsebæreventyret 2019-01-01        85.000000   \n",
       "146122           Sokagin Çocuklari 2019-01-01        98.000000   \n",
       "146123              Kuttram Seiyel 2019-01-01        86.187247   \n",
       "\n",
       "                        genres  \n",
       "0           Action,Crime,Drama  \n",
       "1              Biography,Drama  \n",
       "2                        Drama  \n",
       "3                 Comedy,Drama  \n",
       "4         Comedy,Drama,Fantasy  \n",
       "...                        ...  \n",
       "146119  Drama,Mystery,Thriller  \n",
       "146120             Crime,Drama  \n",
       "146121             Documentary  \n",
       "146122            Drama,Family  \n",
       "146123            Action,Crime  \n",
       "\n",
       "[146103 rows x 6 columns]"
      ]
     },
     "execution_count": 20,
     "metadata": {},
     "output_type": "execute_result"
    }
   ],
   "source": [
    "basics.head(-20)"
   ]
  },
  {
   "cell_type": "code",
   "execution_count": 21,
   "metadata": {},
   "outputs": [
    {
     "data": {
      "text/html": [
       "<div>\n",
       "<style scoped>\n",
       "    .dataframe tbody tr th:only-of-type {\n",
       "        vertical-align: middle;\n",
       "    }\n",
       "\n",
       "    .dataframe tbody tr th {\n",
       "        vertical-align: top;\n",
       "    }\n",
       "\n",
       "    .dataframe thead th {\n",
       "        text-align: right;\n",
       "    }\n",
       "</style>\n",
       "<table border=\"1\" class=\"dataframe\">\n",
       "  <thead>\n",
       "    <tr style=\"text-align: right;\">\n",
       "      <th></th>\n",
       "      <th>runtime_minutes</th>\n",
       "    </tr>\n",
       "  </thead>\n",
       "  <tbody>\n",
       "    <tr>\n",
       "      <th>count</th>\n",
       "      <td>146123.000000</td>\n",
       "    </tr>\n",
       "    <tr>\n",
       "      <th>mean</th>\n",
       "      <td>86.186369</td>\n",
       "    </tr>\n",
       "    <tr>\n",
       "      <th>std</th>\n",
       "      <td>147.201530</td>\n",
       "    </tr>\n",
       "    <tr>\n",
       "      <th>min</th>\n",
       "      <td>1.000000</td>\n",
       "    </tr>\n",
       "    <tr>\n",
       "      <th>25%</th>\n",
       "      <td>75.000000</td>\n",
       "    </tr>\n",
       "    <tr>\n",
       "      <th>50%</th>\n",
       "      <td>86.187247</td>\n",
       "    </tr>\n",
       "    <tr>\n",
       "      <th>75%</th>\n",
       "      <td>95.000000</td>\n",
       "    </tr>\n",
       "    <tr>\n",
       "      <th>max</th>\n",
       "      <td>51420.000000</td>\n",
       "    </tr>\n",
       "  </tbody>\n",
       "</table>\n",
       "</div>"
      ],
      "text/plain": [
       "       runtime_minutes\n",
       "count    146123.000000\n",
       "mean         86.186369\n",
       "std         147.201530\n",
       "min           1.000000\n",
       "25%          75.000000\n",
       "50%          86.187247\n",
       "75%          95.000000\n",
       "max       51420.000000"
      ]
     },
     "execution_count": 21,
     "metadata": {},
     "output_type": "execute_result"
    }
   ],
   "source": [
    "basics.describe()"
   ]
  },
  {
   "cell_type": "markdown",
   "metadata": {},
   "source": [
    "Ratings Dataset\n",
    "This particular dataset contains the tconst as the foreign key, averagerating and numvotes columns, it shows us the \n",
    "ratings and vote counts of the movies from the movie audience. Here there is little cleaning to do."
   ]
  },
  {
   "cell_type": "code",
   "execution_count": 22,
   "metadata": {},
   "outputs": [
    {
     "data": {
      "text/html": [
       "<div>\n",
       "<style scoped>\n",
       "    .dataframe tbody tr th:only-of-type {\n",
       "        vertical-align: middle;\n",
       "    }\n",
       "\n",
       "    .dataframe tbody tr th {\n",
       "        vertical-align: top;\n",
       "    }\n",
       "\n",
       "    .dataframe thead th {\n",
       "        text-align: right;\n",
       "    }\n",
       "</style>\n",
       "<table border=\"1\" class=\"dataframe\">\n",
       "  <thead>\n",
       "    <tr style=\"text-align: right;\">\n",
       "      <th></th>\n",
       "      <th>tconst</th>\n",
       "      <th>averagerating</th>\n",
       "      <th>numvotes</th>\n",
       "    </tr>\n",
       "  </thead>\n",
       "  <tbody>\n",
       "    <tr>\n",
       "      <th>0</th>\n",
       "      <td>tt10356526</td>\n",
       "      <td>8.3</td>\n",
       "      <td>31</td>\n",
       "    </tr>\n",
       "    <tr>\n",
       "      <th>1</th>\n",
       "      <td>tt10384606</td>\n",
       "      <td>8.9</td>\n",
       "      <td>559</td>\n",
       "    </tr>\n",
       "    <tr>\n",
       "      <th>2</th>\n",
       "      <td>tt1042974</td>\n",
       "      <td>6.4</td>\n",
       "      <td>20</td>\n",
       "    </tr>\n",
       "    <tr>\n",
       "      <th>3</th>\n",
       "      <td>tt1043726</td>\n",
       "      <td>4.2</td>\n",
       "      <td>50352</td>\n",
       "    </tr>\n",
       "    <tr>\n",
       "      <th>4</th>\n",
       "      <td>tt1060240</td>\n",
       "      <td>6.5</td>\n",
       "      <td>21</td>\n",
       "    </tr>\n",
       "  </tbody>\n",
       "</table>\n",
       "</div>"
      ],
      "text/plain": [
       "       tconst  averagerating  numvotes\n",
       "0  tt10356526            8.3        31\n",
       "1  tt10384606            8.9       559\n",
       "2   tt1042974            6.4        20\n",
       "3   tt1043726            4.2     50352\n",
       "4   tt1060240            6.5        21"
      ]
     },
     "execution_count": 22,
     "metadata": {},
     "output_type": "execute_result"
    }
   ],
   "source": [
    "ratings.head()"
   ]
  },
  {
   "cell_type": "code",
   "execution_count": 23,
   "metadata": {},
   "outputs": [
    {
     "data": {
      "text/plain": [
       "tconst           False\n",
       "averagerating    False\n",
       "numvotes         False\n",
       "dtype: bool"
      ]
     },
     "execution_count": 23,
     "metadata": {},
     "output_type": "execute_result"
    }
   ],
   "source": [
    "#check whether the ratings data contains missing values for each column\n",
    "missing_values = ratings.isnull().any(axis=0)\n",
    "missing_values"
   ]
  },
  {
   "cell_type": "code",
   "execution_count": 24,
   "metadata": {},
   "outputs": [
    {
     "data": {
      "text/plain": [
       "tconst           0\n",
       "averagerating    0\n",
       "numvotes         0\n",
       "dtype: int64"
      ]
     },
     "execution_count": 24,
     "metadata": {},
     "output_type": "execute_result"
    }
   ],
   "source": [
    "# check any remaining missing data in the ratings dataframe\n",
    "missing_value_counts = ratings.isna().sum()\n",
    "missing_value_counts"
   ]
  },
  {
   "cell_type": "code",
   "execution_count": 25,
   "metadata": {},
   "outputs": [],
   "source": [
    "# convert the column to a string data type is a precautionary step to \n",
    "# avoid potential issues when applying string methods on the column\n",
    "\n",
    "ratings['tconst'] = ratings['tconst'].astype(str)"
   ]
  },
  {
   "cell_type": "code",
   "execution_count": 26,
   "metadata": {},
   "outputs": [],
   "source": [
    "# strip white spaces and special characters in the ratings dataframe\n",
    "ratings['tconst'] = ratings['tconst'].str.replace(r'[()!@#$%^&*]', '', regex=True)\n",
    "\n",
    "# Remove leading and trailing white spaces from 'tconst'\n",
    "ratings['tconst'] = ratings['tconst'].str.strip()"
   ]
  },
  {
   "cell_type": "code",
   "execution_count": 27,
   "metadata": {},
   "outputs": [
    {
     "data": {
      "text/html": [
       "<div>\n",
       "<style scoped>\n",
       "    .dataframe tbody tr th:only-of-type {\n",
       "        vertical-align: middle;\n",
       "    }\n",
       "\n",
       "    .dataframe tbody tr th {\n",
       "        vertical-align: top;\n",
       "    }\n",
       "\n",
       "    .dataframe thead th {\n",
       "        text-align: right;\n",
       "    }\n",
       "</style>\n",
       "<table border=\"1\" class=\"dataframe\">\n",
       "  <thead>\n",
       "    <tr style=\"text-align: right;\">\n",
       "      <th></th>\n",
       "      <th>tconst</th>\n",
       "      <th>averagerating</th>\n",
       "      <th>numvotes</th>\n",
       "    </tr>\n",
       "  </thead>\n",
       "  <tbody>\n",
       "    <tr>\n",
       "      <th>0</th>\n",
       "      <td>tt10356526</td>\n",
       "      <td>8.3</td>\n",
       "      <td>31</td>\n",
       "    </tr>\n",
       "    <tr>\n",
       "      <th>1</th>\n",
       "      <td>tt10384606</td>\n",
       "      <td>8.9</td>\n",
       "      <td>559</td>\n",
       "    </tr>\n",
       "    <tr>\n",
       "      <th>2</th>\n",
       "      <td>tt1042974</td>\n",
       "      <td>6.4</td>\n",
       "      <td>20</td>\n",
       "    </tr>\n",
       "    <tr>\n",
       "      <th>3</th>\n",
       "      <td>tt1043726</td>\n",
       "      <td>4.2</td>\n",
       "      <td>50352</td>\n",
       "    </tr>\n",
       "    <tr>\n",
       "      <th>4</th>\n",
       "      <td>tt1060240</td>\n",
       "      <td>6.5</td>\n",
       "      <td>21</td>\n",
       "    </tr>\n",
       "    <tr>\n",
       "      <th>...</th>\n",
       "      <td>...</td>\n",
       "      <td>...</td>\n",
       "      <td>...</td>\n",
       "    </tr>\n",
       "    <tr>\n",
       "      <th>73841</th>\n",
       "      <td>tt9643092</td>\n",
       "      <td>6.3</td>\n",
       "      <td>12</td>\n",
       "    </tr>\n",
       "    <tr>\n",
       "      <th>73842</th>\n",
       "      <td>tt9647642</td>\n",
       "      <td>2.0</td>\n",
       "      <td>5</td>\n",
       "    </tr>\n",
       "    <tr>\n",
       "      <th>73843</th>\n",
       "      <td>tt9657910</td>\n",
       "      <td>5.0</td>\n",
       "      <td>7</td>\n",
       "    </tr>\n",
       "    <tr>\n",
       "      <th>73844</th>\n",
       "      <td>tt9668598</td>\n",
       "      <td>5.5</td>\n",
       "      <td>317</td>\n",
       "    </tr>\n",
       "    <tr>\n",
       "      <th>73845</th>\n",
       "      <td>tt9690762</td>\n",
       "      <td>5.6</td>\n",
       "      <td>37</td>\n",
       "    </tr>\n",
       "  </tbody>\n",
       "</table>\n",
       "<p>73846 rows × 3 columns</p>\n",
       "</div>"
      ],
      "text/plain": [
       "           tconst  averagerating  numvotes\n",
       "0      tt10356526            8.3        31\n",
       "1      tt10384606            8.9       559\n",
       "2       tt1042974            6.4        20\n",
       "3       tt1043726            4.2     50352\n",
       "4       tt1060240            6.5        21\n",
       "...           ...            ...       ...\n",
       "73841   tt9643092            6.3        12\n",
       "73842   tt9647642            2.0         5\n",
       "73843   tt9657910            5.0         7\n",
       "73844   tt9668598            5.5       317\n",
       "73845   tt9690762            5.6        37\n",
       "\n",
       "[73846 rows x 3 columns]"
      ]
     },
     "execution_count": 27,
     "metadata": {},
     "output_type": "execute_result"
    }
   ],
   "source": [
    "ratings.head(-10)"
   ]
  },
  {
   "cell_type": "code",
   "execution_count": 28,
   "metadata": {},
   "outputs": [
    {
     "name": "stdout",
     "output_type": "stream",
     "text": [
      "Empty DataFrame\n",
      "Columns: [tconst, averagerating, numvotes]\n",
      "Index: []\n"
     ]
    }
   ],
   "source": [
    "# Get the rows with duplicates based on all columns\n",
    "duplicate_rows = ratings[ratings.duplicated(keep=False)]\n",
    "\n",
    "# Display the duplicate rows, there are no duplicates in the tconst column\n",
    "print(duplicate_rows)"
   ]
  },
  {
   "cell_type": "code",
   "execution_count": 29,
   "metadata": {},
   "outputs": [
    {
     "data": {
      "text/plain": [
       "73856"
      ]
     },
     "execution_count": 29,
     "metadata": {},
     "output_type": "execute_result"
    }
   ],
   "source": [
    "# Check for duplicates based on unique numbers\n",
    "# there are no duplicates on the 'tconst' column\n",
    "unique_count = ratings['tconst'].nunique()\n",
    "unique_count"
   ]
  },
  {
   "cell_type": "code",
   "execution_count": 30,
   "metadata": {},
   "outputs": [],
   "source": [
    "# convert the averagerating column into a float data type instead of having both float and integer data types, we only need one\n",
    "ratings['averagerating'] = ratings['averagerating'].astype(float)"
   ]
  },
  {
   "cell_type": "code",
   "execution_count": 31,
   "metadata": {},
   "outputs": [
    {
     "data": {
      "text/html": [
       "<div>\n",
       "<style scoped>\n",
       "    .dataframe tbody tr th:only-of-type {\n",
       "        vertical-align: middle;\n",
       "    }\n",
       "\n",
       "    .dataframe tbody tr th {\n",
       "        vertical-align: top;\n",
       "    }\n",
       "\n",
       "    .dataframe thead th {\n",
       "        text-align: right;\n",
       "    }\n",
       "</style>\n",
       "<table border=\"1\" class=\"dataframe\">\n",
       "  <thead>\n",
       "    <tr style=\"text-align: right;\">\n",
       "      <th></th>\n",
       "      <th>tconst</th>\n",
       "      <th>averagerating</th>\n",
       "      <th>numvotes</th>\n",
       "    </tr>\n",
       "  </thead>\n",
       "  <tbody>\n",
       "    <tr>\n",
       "      <th>0</th>\n",
       "      <td>tt10356526</td>\n",
       "      <td>8.3</td>\n",
       "      <td>31</td>\n",
       "    </tr>\n",
       "    <tr>\n",
       "      <th>1</th>\n",
       "      <td>tt10384606</td>\n",
       "      <td>8.9</td>\n",
       "      <td>559</td>\n",
       "    </tr>\n",
       "    <tr>\n",
       "      <th>2</th>\n",
       "      <td>tt1042974</td>\n",
       "      <td>6.4</td>\n",
       "      <td>20</td>\n",
       "    </tr>\n",
       "    <tr>\n",
       "      <th>3</th>\n",
       "      <td>tt1043726</td>\n",
       "      <td>4.2</td>\n",
       "      <td>50352</td>\n",
       "    </tr>\n",
       "    <tr>\n",
       "      <th>4</th>\n",
       "      <td>tt1060240</td>\n",
       "      <td>6.5</td>\n",
       "      <td>21</td>\n",
       "    </tr>\n",
       "    <tr>\n",
       "      <th>5</th>\n",
       "      <td>tt1069246</td>\n",
       "      <td>6.2</td>\n",
       "      <td>326</td>\n",
       "    </tr>\n",
       "    <tr>\n",
       "      <th>6</th>\n",
       "      <td>tt1094666</td>\n",
       "      <td>7.0</td>\n",
       "      <td>1613</td>\n",
       "    </tr>\n",
       "    <tr>\n",
       "      <th>7</th>\n",
       "      <td>tt1130982</td>\n",
       "      <td>6.4</td>\n",
       "      <td>571</td>\n",
       "    </tr>\n",
       "    <tr>\n",
       "      <th>8</th>\n",
       "      <td>tt1156528</td>\n",
       "      <td>7.2</td>\n",
       "      <td>265</td>\n",
       "    </tr>\n",
       "    <tr>\n",
       "      <th>9</th>\n",
       "      <td>tt1161457</td>\n",
       "      <td>4.2</td>\n",
       "      <td>148</td>\n",
       "    </tr>\n",
       "  </tbody>\n",
       "</table>\n",
       "</div>"
      ],
      "text/plain": [
       "       tconst  averagerating  numvotes\n",
       "0  tt10356526            8.3        31\n",
       "1  tt10384606            8.9       559\n",
       "2   tt1042974            6.4        20\n",
       "3   tt1043726            4.2     50352\n",
       "4   tt1060240            6.5        21\n",
       "5   tt1069246            6.2       326\n",
       "6   tt1094666            7.0      1613\n",
       "7   tt1130982            6.4       571\n",
       "8   tt1156528            7.2       265\n",
       "9   tt1161457            4.2       148"
      ]
     },
     "execution_count": 31,
     "metadata": {},
     "output_type": "execute_result"
    }
   ],
   "source": [
    "ratings.head(10)"
   ]
  },
  {
   "cell_type": "code",
   "execution_count": 32,
   "metadata": {},
   "outputs": [
    {
     "data": {
      "text/html": [
       "<div>\n",
       "<style scoped>\n",
       "    .dataframe tbody tr th:only-of-type {\n",
       "        vertical-align: middle;\n",
       "    }\n",
       "\n",
       "    .dataframe tbody tr th {\n",
       "        vertical-align: top;\n",
       "    }\n",
       "\n",
       "    .dataframe thead th {\n",
       "        text-align: right;\n",
       "    }\n",
       "</style>\n",
       "<table border=\"1\" class=\"dataframe\">\n",
       "  <thead>\n",
       "    <tr style=\"text-align: right;\">\n",
       "      <th></th>\n",
       "      <th>averagerating</th>\n",
       "      <th>numvotes</th>\n",
       "    </tr>\n",
       "  </thead>\n",
       "  <tbody>\n",
       "    <tr>\n",
       "      <th>count</th>\n",
       "      <td>73856.000000</td>\n",
       "      <td>7.385600e+04</td>\n",
       "    </tr>\n",
       "    <tr>\n",
       "      <th>mean</th>\n",
       "      <td>6.332729</td>\n",
       "      <td>3.523662e+03</td>\n",
       "    </tr>\n",
       "    <tr>\n",
       "      <th>std</th>\n",
       "      <td>1.474978</td>\n",
       "      <td>3.029402e+04</td>\n",
       "    </tr>\n",
       "    <tr>\n",
       "      <th>min</th>\n",
       "      <td>1.000000</td>\n",
       "      <td>5.000000e+00</td>\n",
       "    </tr>\n",
       "    <tr>\n",
       "      <th>25%</th>\n",
       "      <td>5.500000</td>\n",
       "      <td>1.400000e+01</td>\n",
       "    </tr>\n",
       "    <tr>\n",
       "      <th>50%</th>\n",
       "      <td>6.500000</td>\n",
       "      <td>4.900000e+01</td>\n",
       "    </tr>\n",
       "    <tr>\n",
       "      <th>75%</th>\n",
       "      <td>7.400000</td>\n",
       "      <td>2.820000e+02</td>\n",
       "    </tr>\n",
       "    <tr>\n",
       "      <th>max</th>\n",
       "      <td>10.000000</td>\n",
       "      <td>1.841066e+06</td>\n",
       "    </tr>\n",
       "  </tbody>\n",
       "</table>\n",
       "</div>"
      ],
      "text/plain": [
       "       averagerating      numvotes\n",
       "count   73856.000000  7.385600e+04\n",
       "mean        6.332729  3.523662e+03\n",
       "std         1.474978  3.029402e+04\n",
       "min         1.000000  5.000000e+00\n",
       "25%         5.500000  1.400000e+01\n",
       "50%         6.500000  4.900000e+01\n",
       "75%         7.400000  2.820000e+02\n",
       "max        10.000000  1.841066e+06"
      ]
     },
     "execution_count": 32,
     "metadata": {},
     "output_type": "execute_result"
    }
   ],
   "source": [
    "ratings.describe()"
   ]
  },
  {
   "cell_type": "markdown",
   "metadata": {},
   "source": [
    "Gross Dataset\n",
    "This dataset contains the title column, studio, domestic_gross, foreigh_gross and year, it provides the information about the revenue being made by the movies both locally and internationally and the studios that made them."
   ]
  },
  {
   "cell_type": "code",
   "execution_count": 33,
   "metadata": {},
   "outputs": [
    {
     "data": {
      "text/html": [
       "<div>\n",
       "<style scoped>\n",
       "    .dataframe tbody tr th:only-of-type {\n",
       "        vertical-align: middle;\n",
       "    }\n",
       "\n",
       "    .dataframe tbody tr th {\n",
       "        vertical-align: top;\n",
       "    }\n",
       "\n",
       "    .dataframe thead th {\n",
       "        text-align: right;\n",
       "    }\n",
       "</style>\n",
       "<table border=\"1\" class=\"dataframe\">\n",
       "  <thead>\n",
       "    <tr style=\"text-align: right;\">\n",
       "      <th></th>\n",
       "      <th>title</th>\n",
       "      <th>studio</th>\n",
       "      <th>domestic_gross</th>\n",
       "      <th>foreign_gross</th>\n",
       "      <th>year</th>\n",
       "    </tr>\n",
       "  </thead>\n",
       "  <tbody>\n",
       "    <tr>\n",
       "      <th>0</th>\n",
       "      <td>Toy Story 3</td>\n",
       "      <td>BV</td>\n",
       "      <td>415000000.0</td>\n",
       "      <td>652000000</td>\n",
       "      <td>2010</td>\n",
       "    </tr>\n",
       "    <tr>\n",
       "      <th>1</th>\n",
       "      <td>Alice in Wonderland (2010)</td>\n",
       "      <td>BV</td>\n",
       "      <td>334200000.0</td>\n",
       "      <td>691300000</td>\n",
       "      <td>2010</td>\n",
       "    </tr>\n",
       "    <tr>\n",
       "      <th>2</th>\n",
       "      <td>Harry Potter and the Deathly Hallows Part 1</td>\n",
       "      <td>WB</td>\n",
       "      <td>296000000.0</td>\n",
       "      <td>664300000</td>\n",
       "      <td>2010</td>\n",
       "    </tr>\n",
       "    <tr>\n",
       "      <th>3</th>\n",
       "      <td>Inception</td>\n",
       "      <td>WB</td>\n",
       "      <td>292600000.0</td>\n",
       "      <td>535700000</td>\n",
       "      <td>2010</td>\n",
       "    </tr>\n",
       "    <tr>\n",
       "      <th>4</th>\n",
       "      <td>Shrek Forever After</td>\n",
       "      <td>P/DW</td>\n",
       "      <td>238700000.0</td>\n",
       "      <td>513900000</td>\n",
       "      <td>2010</td>\n",
       "    </tr>\n",
       "  </tbody>\n",
       "</table>\n",
       "</div>"
      ],
      "text/plain": [
       "                                         title studio  domestic_gross  \\\n",
       "0                                  Toy Story 3     BV     415000000.0   \n",
       "1                   Alice in Wonderland (2010)     BV     334200000.0   \n",
       "2  Harry Potter and the Deathly Hallows Part 1     WB     296000000.0   \n",
       "3                                    Inception     WB     292600000.0   \n",
       "4                          Shrek Forever After   P/DW     238700000.0   \n",
       "\n",
       "  foreign_gross  year  \n",
       "0     652000000  2010  \n",
       "1     691300000  2010  \n",
       "2     664300000  2010  \n",
       "3     535700000  2010  \n",
       "4     513900000  2010  "
      ]
     },
     "execution_count": 33,
     "metadata": {},
     "output_type": "execute_result"
    }
   ],
   "source": [
    "gross.head()"
   ]
  },
  {
   "cell_type": "code",
   "execution_count": 34,
   "metadata": {},
   "outputs": [
    {
     "data": {
      "text/plain": [
       "title                0\n",
       "studio               5\n",
       "domestic_gross      28\n",
       "foreign_gross     1350\n",
       "year                 0\n",
       "dtype: int64"
      ]
     },
     "execution_count": 34,
     "metadata": {},
     "output_type": "execute_result"
    }
   ],
   "source": [
    "missing_value_counts = gross.isna().sum()\n",
    "missing_value_counts"
   ]
  },
  {
   "cell_type": "code",
   "execution_count": 35,
   "metadata": {},
   "outputs": [
    {
     "name": "stdout",
     "output_type": "stream",
     "text": [
      "Percentage of missing values in the 'domestic_gross' column: 0.83%\n",
      "Percentage of missing values in the 'foreign_gross' column: 39.86%\n"
     ]
    }
   ],
   "source": [
    "missing_percentage = gross['domestic_gross'].isna().mean() * 100\n",
    "print(\"Percentage of missing values in the 'domestic_gross' column: {:.2f}%\".format(missing_percentage))\n",
    "\n",
    "missing_percentage = gross['foreign_gross'].isna().mean() * 100\n",
    "print(\"Percentage of missing values in the 'foreign_gross' column: {:.2f}%\".format(missing_percentage))\n"
   ]
  },
  {
   "cell_type": "code",
   "execution_count": 36,
   "metadata": {},
   "outputs": [
    {
     "data": {
      "text/html": [
       "<div>\n",
       "<style scoped>\n",
       "    .dataframe tbody tr th:only-of-type {\n",
       "        vertical-align: middle;\n",
       "    }\n",
       "\n",
       "    .dataframe tbody tr th {\n",
       "        vertical-align: top;\n",
       "    }\n",
       "\n",
       "    .dataframe thead th {\n",
       "        text-align: right;\n",
       "    }\n",
       "</style>\n",
       "<table border=\"1\" class=\"dataframe\">\n",
       "  <thead>\n",
       "    <tr style=\"text-align: right;\">\n",
       "      <th></th>\n",
       "      <th>title</th>\n",
       "      <th>studio</th>\n",
       "      <th>domestic_gross</th>\n",
       "      <th>foreign_gross</th>\n",
       "      <th>year</th>\n",
       "    </tr>\n",
       "  </thead>\n",
       "  <tbody>\n",
       "    <tr>\n",
       "      <th>0</th>\n",
       "      <td>Toy Story 3</td>\n",
       "      <td>BV</td>\n",
       "      <td>415000000.0</td>\n",
       "      <td>652000000</td>\n",
       "      <td>2010</td>\n",
       "    </tr>\n",
       "    <tr>\n",
       "      <th>1</th>\n",
       "      <td>Alice in Wonderland (2010)</td>\n",
       "      <td>BV</td>\n",
       "      <td>334200000.0</td>\n",
       "      <td>691300000</td>\n",
       "      <td>2010</td>\n",
       "    </tr>\n",
       "    <tr>\n",
       "      <th>2</th>\n",
       "      <td>Harry Potter and the Deathly Hallows Part 1</td>\n",
       "      <td>WB</td>\n",
       "      <td>296000000.0</td>\n",
       "      <td>664300000</td>\n",
       "      <td>2010</td>\n",
       "    </tr>\n",
       "    <tr>\n",
       "      <th>3</th>\n",
       "      <td>Inception</td>\n",
       "      <td>WB</td>\n",
       "      <td>292600000.0</td>\n",
       "      <td>535700000</td>\n",
       "      <td>2010</td>\n",
       "    </tr>\n",
       "    <tr>\n",
       "      <th>4</th>\n",
       "      <td>Shrek Forever After</td>\n",
       "      <td>P/DW</td>\n",
       "      <td>238700000.0</td>\n",
       "      <td>513900000</td>\n",
       "      <td>2010</td>\n",
       "    </tr>\n",
       "  </tbody>\n",
       "</table>\n",
       "</div>"
      ],
      "text/plain": [
       "                                         title studio  domestic_gross  \\\n",
       "0                                  Toy Story 3     BV     415000000.0   \n",
       "1                   Alice in Wonderland (2010)     BV     334200000.0   \n",
       "2  Harry Potter and the Deathly Hallows Part 1     WB     296000000.0   \n",
       "3                                    Inception     WB     292600000.0   \n",
       "4                          Shrek Forever After   P/DW     238700000.0   \n",
       "\n",
       "  foreign_gross  year  \n",
       "0     652000000  2010  \n",
       "1     691300000  2010  \n",
       "2     664300000  2010  \n",
       "3     535700000  2010  \n",
       "4     513900000  2010  "
      ]
     },
     "execution_count": 36,
     "metadata": {},
     "output_type": "execute_result"
    }
   ],
   "source": [
    "gross.head()"
   ]
  },
  {
   "cell_type": "code",
   "execution_count": 37,
   "metadata": {},
   "outputs": [],
   "source": [
    "# Drop rows with missing 'studio'\n",
    "gross.dropna(subset=['studio'], inplace=True)"
   ]
  },
  {
   "cell_type": "code",
   "execution_count": 38,
   "metadata": {},
   "outputs": [],
   "source": [
    "# Convert release year to datetime data type ('start_Year')\n",
    "gross['year'] = pd.to_datetime(gross['year'], format='%Y', errors='coerce')"
   ]
  },
  {
   "cell_type": "code",
   "execution_count": 39,
   "metadata": {},
   "outputs": [
    {
     "data": {
      "text/plain": [
       "dtype('O')"
      ]
     },
     "execution_count": 39,
     "metadata": {},
     "output_type": "execute_result"
    }
   ],
   "source": [
    "gross.foreign_gross.dtypes"
   ]
  },
  {
   "cell_type": "code",
   "execution_count": 40,
   "metadata": {},
   "outputs": [],
   "source": [
    "# Remove commas from columns with numeric data and convert to numeric data types\n",
    "numeric_columns = ['domestic_gross', 'foreign_gross']\n",
    "\n",
    "gross[numeric_columns] = gross[numeric_columns].replace({',': ''}, regex=True).astype(float)"
   ]
  },
  {
   "cell_type": "code",
   "execution_count": 41,
   "metadata": {},
   "outputs": [
    {
     "data": {
      "text/plain": [
       "0       652000000.0\n",
       "1       691300000.0\n",
       "2       664300000.0\n",
       "3       535700000.0\n",
       "4       513900000.0\n",
       "           ...     \n",
       "3382            NaN\n",
       "3383            NaN\n",
       "3384            NaN\n",
       "3385            NaN\n",
       "3386            NaN\n",
       "Name: foreign_gross, Length: 3382, dtype: float64"
      ]
     },
     "execution_count": 41,
     "metadata": {},
     "output_type": "execute_result"
    }
   ],
   "source": [
    "gross.foreign_gross.astype('float')"
   ]
  },
  {
   "cell_type": "code",
   "execution_count": 42,
   "metadata": {},
   "outputs": [
    {
     "data": {
      "text/html": [
       "<div>\n",
       "<style scoped>\n",
       "    .dataframe tbody tr th:only-of-type {\n",
       "        vertical-align: middle;\n",
       "    }\n",
       "\n",
       "    .dataframe tbody tr th {\n",
       "        vertical-align: top;\n",
       "    }\n",
       "\n",
       "    .dataframe thead th {\n",
       "        text-align: right;\n",
       "    }\n",
       "</style>\n",
       "<table border=\"1\" class=\"dataframe\">\n",
       "  <thead>\n",
       "    <tr style=\"text-align: right;\">\n",
       "      <th></th>\n",
       "      <th>title</th>\n",
       "      <th>studio</th>\n",
       "      <th>domestic_gross</th>\n",
       "      <th>foreign_gross</th>\n",
       "      <th>year</th>\n",
       "    </tr>\n",
       "  </thead>\n",
       "  <tbody>\n",
       "    <tr>\n",
       "      <th>0</th>\n",
       "      <td>Toy Story 3</td>\n",
       "      <td>BV</td>\n",
       "      <td>415000000.0</td>\n",
       "      <td>652000000.0</td>\n",
       "      <td>2010-01-01</td>\n",
       "    </tr>\n",
       "    <tr>\n",
       "      <th>1</th>\n",
       "      <td>Alice in Wonderland (2010)</td>\n",
       "      <td>BV</td>\n",
       "      <td>334200000.0</td>\n",
       "      <td>691300000.0</td>\n",
       "      <td>2010-01-01</td>\n",
       "    </tr>\n",
       "    <tr>\n",
       "      <th>2</th>\n",
       "      <td>Harry Potter and the Deathly Hallows Part 1</td>\n",
       "      <td>WB</td>\n",
       "      <td>296000000.0</td>\n",
       "      <td>664300000.0</td>\n",
       "      <td>2010-01-01</td>\n",
       "    </tr>\n",
       "    <tr>\n",
       "      <th>3</th>\n",
       "      <td>Inception</td>\n",
       "      <td>WB</td>\n",
       "      <td>292600000.0</td>\n",
       "      <td>535700000.0</td>\n",
       "      <td>2010-01-01</td>\n",
       "    </tr>\n",
       "    <tr>\n",
       "      <th>4</th>\n",
       "      <td>Shrek Forever After</td>\n",
       "      <td>P/DW</td>\n",
       "      <td>238700000.0</td>\n",
       "      <td>513900000.0</td>\n",
       "      <td>2010-01-01</td>\n",
       "    </tr>\n",
       "  </tbody>\n",
       "</table>\n",
       "</div>"
      ],
      "text/plain": [
       "                                         title studio  domestic_gross  \\\n",
       "0                                  Toy Story 3     BV     415000000.0   \n",
       "1                   Alice in Wonderland (2010)     BV     334200000.0   \n",
       "2  Harry Potter and the Deathly Hallows Part 1     WB     296000000.0   \n",
       "3                                    Inception     WB     292600000.0   \n",
       "4                          Shrek Forever After   P/DW     238700000.0   \n",
       "\n",
       "   foreign_gross       year  \n",
       "0    652000000.0 2010-01-01  \n",
       "1    691300000.0 2010-01-01  \n",
       "2    664300000.0 2010-01-01  \n",
       "3    535700000.0 2010-01-01  \n",
       "4    513900000.0 2010-01-01  "
      ]
     },
     "execution_count": 42,
     "metadata": {},
     "output_type": "execute_result"
    }
   ],
   "source": [
    "gross.head()"
   ]
  },
  {
   "cell_type": "code",
   "execution_count": 43,
   "metadata": {},
   "outputs": [],
   "source": [
    "# Impute NaN entries with meadian of the column\n",
    "gross['domestic_gross'].fillna(gross['domestic_gross'].median(), inplace=True)"
   ]
  },
  {
   "cell_type": "code",
   "execution_count": 44,
   "metadata": {},
   "outputs": [],
   "source": [
    "# Impute NaN entries with meadian of the column\n",
    "gross['foreign_gross'].fillna(gross['foreign_gross'].median(), inplace=True)"
   ]
  },
  {
   "cell_type": "code",
   "execution_count": 45,
   "metadata": {},
   "outputs": [
    {
     "data": {
      "text/plain": [
       "title             0\n",
       "studio            0\n",
       "domestic_gross    0\n",
       "foreign_gross     0\n",
       "year              0\n",
       "dtype: int64"
      ]
     },
     "execution_count": 45,
     "metadata": {},
     "output_type": "execute_result"
    }
   ],
   "source": [
    "# check for any remaing null values\n",
    "missing_value_counts = gross.isna().sum()\n",
    "missing_value_counts"
   ]
  },
  {
   "cell_type": "code",
   "execution_count": 46,
   "metadata": {},
   "outputs": [
    {
     "data": {
      "text/html": [
       "<div>\n",
       "<style scoped>\n",
       "    .dataframe tbody tr th:only-of-type {\n",
       "        vertical-align: middle;\n",
       "    }\n",
       "\n",
       "    .dataframe tbody tr th {\n",
       "        vertical-align: top;\n",
       "    }\n",
       "\n",
       "    .dataframe thead th {\n",
       "        text-align: right;\n",
       "    }\n",
       "</style>\n",
       "<table border=\"1\" class=\"dataframe\">\n",
       "  <thead>\n",
       "    <tr style=\"text-align: right;\">\n",
       "      <th></th>\n",
       "      <th>domestic_gross</th>\n",
       "      <th>foreign_gross</th>\n",
       "    </tr>\n",
       "  </thead>\n",
       "  <tbody>\n",
       "    <tr>\n",
       "      <th>count</th>\n",
       "      <td>3.382000e+03</td>\n",
       "      <td>3.382000e+03</td>\n",
       "    </tr>\n",
       "    <tr>\n",
       "      <th>mean</th>\n",
       "      <td>2.856106e+07</td>\n",
       "      <td>5.251615e+07</td>\n",
       "    </tr>\n",
       "    <tr>\n",
       "      <th>std</th>\n",
       "      <td>6.679161e+07</td>\n",
       "      <td>1.101098e+08</td>\n",
       "    </tr>\n",
       "    <tr>\n",
       "      <th>min</th>\n",
       "      <td>1.000000e+02</td>\n",
       "      <td>6.000000e+02</td>\n",
       "    </tr>\n",
       "    <tr>\n",
       "      <th>25%</th>\n",
       "      <td>1.230000e+05</td>\n",
       "      <td>1.170000e+07</td>\n",
       "    </tr>\n",
       "    <tr>\n",
       "      <th>50%</th>\n",
       "      <td>1.400000e+06</td>\n",
       "      <td>1.870000e+07</td>\n",
       "    </tr>\n",
       "    <tr>\n",
       "      <th>75%</th>\n",
       "      <td>2.767500e+07</td>\n",
       "      <td>2.917500e+07</td>\n",
       "    </tr>\n",
       "    <tr>\n",
       "      <th>max</th>\n",
       "      <td>9.367000e+08</td>\n",
       "      <td>9.605000e+08</td>\n",
       "    </tr>\n",
       "  </tbody>\n",
       "</table>\n",
       "</div>"
      ],
      "text/plain": [
       "       domestic_gross  foreign_gross\n",
       "count    3.382000e+03   3.382000e+03\n",
       "mean     2.856106e+07   5.251615e+07\n",
       "std      6.679161e+07   1.101098e+08\n",
       "min      1.000000e+02   6.000000e+02\n",
       "25%      1.230000e+05   1.170000e+07\n",
       "50%      1.400000e+06   1.870000e+07\n",
       "75%      2.767500e+07   2.917500e+07\n",
       "max      9.367000e+08   9.605000e+08"
      ]
     },
     "execution_count": 46,
     "metadata": {},
     "output_type": "execute_result"
    }
   ],
   "source": [
    "gross.describe()"
   ]
  },
  {
   "cell_type": "markdown",
   "metadata": {},
   "source": [
    "# Merging Data\n",
    "\n",
    "In order to effectively analyze these data we need to join the 3 data tables using the common columns among them identified as primary keys and foreign keys to create a relational database.\n",
    "\n",
    "In merging the three datasets I will be using pandas and specifically perform inner joins to avoid the headache of having huge missing data that will bring about ambiguity after joining because the datasets are not of the same length(in terms of rows)\n",
    "\n",
    "Business Problems Tackling are as follows:\n",
    "\n",
    "  1.Establish and understand the relationship between ratings and revenue of different genres.\n",
    "  \n",
    "  2.Assess the trend in movie release years.\n",
    "  \n",
    "  3.Identify profitable movies genres and studios that made them.\n",
    "  \n",
    "  4.Exploring International market opportunities of movies."
   ]
  },
  {
   "cell_type": "code",
   "execution_count": 47,
   "metadata": {},
   "outputs": [
    {
     "data": {
      "text/html": [
       "<div>\n",
       "<style scoped>\n",
       "    .dataframe tbody tr th:only-of-type {\n",
       "        vertical-align: middle;\n",
       "    }\n",
       "\n",
       "    .dataframe tbody tr th {\n",
       "        vertical-align: top;\n",
       "    }\n",
       "\n",
       "    .dataframe thead th {\n",
       "        text-align: right;\n",
       "    }\n",
       "</style>\n",
       "<table border=\"1\" class=\"dataframe\">\n",
       "  <thead>\n",
       "    <tr style=\"text-align: right;\">\n",
       "      <th></th>\n",
       "      <th>tconst</th>\n",
       "      <th>primary_title</th>\n",
       "      <th>original_title</th>\n",
       "      <th>start_year</th>\n",
       "      <th>runtime_minutes</th>\n",
       "      <th>genres</th>\n",
       "      <th>averagerating</th>\n",
       "      <th>numvotes</th>\n",
       "    </tr>\n",
       "  </thead>\n",
       "  <tbody>\n",
       "    <tr>\n",
       "      <th>0</th>\n",
       "      <td>tt0063540</td>\n",
       "      <td>Sunghursh</td>\n",
       "      <td>Sunghursh</td>\n",
       "      <td>2013-01-01</td>\n",
       "      <td>175.000000</td>\n",
       "      <td>Action,Crime,Drama</td>\n",
       "      <td>7.0</td>\n",
       "      <td>77</td>\n",
       "    </tr>\n",
       "    <tr>\n",
       "      <th>1</th>\n",
       "      <td>tt0066787</td>\n",
       "      <td>One Day Before the Rainy Season</td>\n",
       "      <td>Ashad Ka Ek Din</td>\n",
       "      <td>2019-01-01</td>\n",
       "      <td>114.000000</td>\n",
       "      <td>Biography,Drama</td>\n",
       "      <td>7.2</td>\n",
       "      <td>43</td>\n",
       "    </tr>\n",
       "    <tr>\n",
       "      <th>2</th>\n",
       "      <td>tt0069049</td>\n",
       "      <td>The Other Side of the Wind</td>\n",
       "      <td>The Other Side of the Wind</td>\n",
       "      <td>2018-01-01</td>\n",
       "      <td>122.000000</td>\n",
       "      <td>Drama</td>\n",
       "      <td>6.9</td>\n",
       "      <td>4517</td>\n",
       "    </tr>\n",
       "    <tr>\n",
       "      <th>3</th>\n",
       "      <td>tt0069204</td>\n",
       "      <td>Sabse Bada Sukh</td>\n",
       "      <td>Sabse Bada Sukh</td>\n",
       "      <td>2018-01-01</td>\n",
       "      <td>86.187247</td>\n",
       "      <td>Comedy,Drama</td>\n",
       "      <td>6.1</td>\n",
       "      <td>13</td>\n",
       "    </tr>\n",
       "    <tr>\n",
       "      <th>4</th>\n",
       "      <td>tt0100275</td>\n",
       "      <td>The Wandering Soap Opera</td>\n",
       "      <td>La Telenovela Errante</td>\n",
       "      <td>2017-01-01</td>\n",
       "      <td>80.000000</td>\n",
       "      <td>Comedy,Drama,Fantasy</td>\n",
       "      <td>6.5</td>\n",
       "      <td>119</td>\n",
       "    </tr>\n",
       "    <tr>\n",
       "      <th>...</th>\n",
       "      <td>...</td>\n",
       "      <td>...</td>\n",
       "      <td>...</td>\n",
       "      <td>...</td>\n",
       "      <td>...</td>\n",
       "      <td>...</td>\n",
       "      <td>...</td>\n",
       "      <td>...</td>\n",
       "    </tr>\n",
       "    <tr>\n",
       "      <th>73851</th>\n",
       "      <td>tt9913084</td>\n",
       "      <td>Diabolik sono io</td>\n",
       "      <td>Diabolik sono io</td>\n",
       "      <td>2019-01-01</td>\n",
       "      <td>75.000000</td>\n",
       "      <td>Documentary</td>\n",
       "      <td>6.2</td>\n",
       "      <td>6</td>\n",
       "    </tr>\n",
       "    <tr>\n",
       "      <th>73852</th>\n",
       "      <td>tt9914286</td>\n",
       "      <td>Sokagin Çocuklari</td>\n",
       "      <td>Sokagin Çocuklari</td>\n",
       "      <td>2019-01-01</td>\n",
       "      <td>98.000000</td>\n",
       "      <td>Drama,Family</td>\n",
       "      <td>8.7</td>\n",
       "      <td>136</td>\n",
       "    </tr>\n",
       "    <tr>\n",
       "      <th>73853</th>\n",
       "      <td>tt9914642</td>\n",
       "      <td>Albatross</td>\n",
       "      <td>Albatross</td>\n",
       "      <td>2017-01-01</td>\n",
       "      <td>86.187247</td>\n",
       "      <td>Documentary</td>\n",
       "      <td>8.5</td>\n",
       "      <td>8</td>\n",
       "    </tr>\n",
       "    <tr>\n",
       "      <th>73854</th>\n",
       "      <td>tt9914942</td>\n",
       "      <td>La vida sense la Sara Amat</td>\n",
       "      <td>La vida sense la Sara Amat</td>\n",
       "      <td>2019-01-01</td>\n",
       "      <td>86.187247</td>\n",
       "      <td>Unknown</td>\n",
       "      <td>6.6</td>\n",
       "      <td>5</td>\n",
       "    </tr>\n",
       "    <tr>\n",
       "      <th>73855</th>\n",
       "      <td>tt9916160</td>\n",
       "      <td>Drømmeland</td>\n",
       "      <td>Drømmeland</td>\n",
       "      <td>2019-01-01</td>\n",
       "      <td>72.000000</td>\n",
       "      <td>Documentary</td>\n",
       "      <td>6.5</td>\n",
       "      <td>11</td>\n",
       "    </tr>\n",
       "  </tbody>\n",
       "</table>\n",
       "<p>73856 rows × 8 columns</p>\n",
       "</div>"
      ],
      "text/plain": [
       "          tconst                    primary_title              original_title  \\\n",
       "0      tt0063540                        Sunghursh                   Sunghursh   \n",
       "1      tt0066787  One Day Before the Rainy Season             Ashad Ka Ek Din   \n",
       "2      tt0069049       The Other Side of the Wind  The Other Side of the Wind   \n",
       "3      tt0069204                  Sabse Bada Sukh             Sabse Bada Sukh   \n",
       "4      tt0100275         The Wandering Soap Opera       La Telenovela Errante   \n",
       "...          ...                              ...                         ...   \n",
       "73851  tt9913084                 Diabolik sono io            Diabolik sono io   \n",
       "73852  tt9914286                Sokagin Çocuklari           Sokagin Çocuklari   \n",
       "73853  tt9914642                        Albatross                   Albatross   \n",
       "73854  tt9914942       La vida sense la Sara Amat  La vida sense la Sara Amat   \n",
       "73855  tt9916160                       Drømmeland                  Drømmeland   \n",
       "\n",
       "      start_year  runtime_minutes                genres  averagerating  \\\n",
       "0     2013-01-01       175.000000    Action,Crime,Drama            7.0   \n",
       "1     2019-01-01       114.000000       Biography,Drama            7.2   \n",
       "2     2018-01-01       122.000000                 Drama            6.9   \n",
       "3     2018-01-01        86.187247          Comedy,Drama            6.1   \n",
       "4     2017-01-01        80.000000  Comedy,Drama,Fantasy            6.5   \n",
       "...          ...              ...                   ...            ...   \n",
       "73851 2019-01-01        75.000000           Documentary            6.2   \n",
       "73852 2019-01-01        98.000000          Drama,Family            8.7   \n",
       "73853 2017-01-01        86.187247           Documentary            8.5   \n",
       "73854 2019-01-01        86.187247               Unknown            6.6   \n",
       "73855 2019-01-01        72.000000           Documentary            6.5   \n",
       "\n",
       "       numvotes  \n",
       "0            77  \n",
       "1            43  \n",
       "2          4517  \n",
       "3            13  \n",
       "4           119  \n",
       "...         ...  \n",
       "73851         6  \n",
       "73852       136  \n",
       "73853         8  \n",
       "73854         5  \n",
       "73855        11  \n",
       "\n",
       "[73856 rows x 8 columns]"
      ]
     },
     "execution_count": 47,
     "metadata": {},
     "output_type": "execute_result"
    }
   ],
   "source": [
    "# Merge basics with ratings on a common column by performing an inner join by default\n",
    "merged_df1 = pd.merge(basics, ratings, on='tconst',)\n",
    "merged_df1"
   ]
  },
  {
   "cell_type": "code",
   "execution_count": 48,
   "metadata": {},
   "outputs": [],
   "source": [
    "# Merge the result with gross on another common column\n",
    "merged_df2 = pd.merge(merged_df1, gross, left_on='primary_title', right_on= 'title')"
   ]
  },
  {
   "cell_type": "code",
   "execution_count": 49,
   "metadata": {
    "scrolled": false
   },
   "outputs": [
    {
     "data": {
      "text/html": [
       "<div>\n",
       "<style scoped>\n",
       "    .dataframe tbody tr th:only-of-type {\n",
       "        vertical-align: middle;\n",
       "    }\n",
       "\n",
       "    .dataframe tbody tr th {\n",
       "        vertical-align: top;\n",
       "    }\n",
       "\n",
       "    .dataframe thead th {\n",
       "        text-align: right;\n",
       "    }\n",
       "</style>\n",
       "<table border=\"1\" class=\"dataframe\">\n",
       "  <thead>\n",
       "    <tr style=\"text-align: right;\">\n",
       "      <th></th>\n",
       "      <th>tconst</th>\n",
       "      <th>primary_title</th>\n",
       "      <th>original_title</th>\n",
       "      <th>start_year</th>\n",
       "      <th>runtime_minutes</th>\n",
       "      <th>genres</th>\n",
       "      <th>averagerating</th>\n",
       "      <th>numvotes</th>\n",
       "      <th>title</th>\n",
       "      <th>studio</th>\n",
       "      <th>domestic_gross</th>\n",
       "      <th>foreign_gross</th>\n",
       "      <th>year</th>\n",
       "    </tr>\n",
       "  </thead>\n",
       "  <tbody>\n",
       "    <tr>\n",
       "      <th>0</th>\n",
       "      <td>tt0315642</td>\n",
       "      <td>Wazir</td>\n",
       "      <td>Wazir</td>\n",
       "      <td>2016-01-01</td>\n",
       "      <td>103.0</td>\n",
       "      <td>Action,Crime,Drama</td>\n",
       "      <td>7.1</td>\n",
       "      <td>15378</td>\n",
       "      <td>Wazir</td>\n",
       "      <td>Relbig.</td>\n",
       "      <td>1100000.0</td>\n",
       "      <td>18700000.0</td>\n",
       "      <td>2016-01-01</td>\n",
       "    </tr>\n",
       "    <tr>\n",
       "      <th>1</th>\n",
       "      <td>tt0337692</td>\n",
       "      <td>On the Road</td>\n",
       "      <td>On the Road</td>\n",
       "      <td>2012-01-01</td>\n",
       "      <td>124.0</td>\n",
       "      <td>Adventure,Drama,Romance</td>\n",
       "      <td>6.1</td>\n",
       "      <td>37886</td>\n",
       "      <td>On the Road</td>\n",
       "      <td>IFC</td>\n",
       "      <td>744000.0</td>\n",
       "      <td>8000000.0</td>\n",
       "      <td>2012-01-01</td>\n",
       "    </tr>\n",
       "    <tr>\n",
       "      <th>2</th>\n",
       "      <td>tt4339118</td>\n",
       "      <td>On the Road</td>\n",
       "      <td>On the Road</td>\n",
       "      <td>2014-01-01</td>\n",
       "      <td>89.0</td>\n",
       "      <td>Drama</td>\n",
       "      <td>6.0</td>\n",
       "      <td>6</td>\n",
       "      <td>On the Road</td>\n",
       "      <td>IFC</td>\n",
       "      <td>744000.0</td>\n",
       "      <td>8000000.0</td>\n",
       "      <td>2012-01-01</td>\n",
       "    </tr>\n",
       "    <tr>\n",
       "      <th>3</th>\n",
       "      <td>tt5647250</td>\n",
       "      <td>On the Road</td>\n",
       "      <td>On the Road</td>\n",
       "      <td>2016-01-01</td>\n",
       "      <td>121.0</td>\n",
       "      <td>Drama</td>\n",
       "      <td>5.7</td>\n",
       "      <td>127</td>\n",
       "      <td>On the Road</td>\n",
       "      <td>IFC</td>\n",
       "      <td>744000.0</td>\n",
       "      <td>8000000.0</td>\n",
       "      <td>2012-01-01</td>\n",
       "    </tr>\n",
       "    <tr>\n",
       "      <th>4</th>\n",
       "      <td>tt0359950</td>\n",
       "      <td>The Secret Life of Walter Mitty</td>\n",
       "      <td>The Secret Life of Walter Mitty</td>\n",
       "      <td>2013-01-01</td>\n",
       "      <td>114.0</td>\n",
       "      <td>Adventure,Comedy,Drama</td>\n",
       "      <td>7.3</td>\n",
       "      <td>275300</td>\n",
       "      <td>The Secret Life of Walter Mitty</td>\n",
       "      <td>Fox</td>\n",
       "      <td>58200000.0</td>\n",
       "      <td>129900000.0</td>\n",
       "      <td>2013-01-01</td>\n",
       "    </tr>\n",
       "    <tr>\n",
       "      <th>...</th>\n",
       "      <td>...</td>\n",
       "      <td>...</td>\n",
       "      <td>...</td>\n",
       "      <td>...</td>\n",
       "      <td>...</td>\n",
       "      <td>...</td>\n",
       "      <td>...</td>\n",
       "      <td>...</td>\n",
       "      <td>...</td>\n",
       "      <td>...</td>\n",
       "      <td>...</td>\n",
       "      <td>...</td>\n",
       "      <td>...</td>\n",
       "    </tr>\n",
       "    <tr>\n",
       "      <th>2982</th>\n",
       "      <td>tt8331988</td>\n",
       "      <td>The Chambermaid</td>\n",
       "      <td>La camarista</td>\n",
       "      <td>2018-01-01</td>\n",
       "      <td>102.0</td>\n",
       "      <td>Drama</td>\n",
       "      <td>7.1</td>\n",
       "      <td>147</td>\n",
       "      <td>The Chambermaid</td>\n",
       "      <td>FM</td>\n",
       "      <td>300.0</td>\n",
       "      <td>18700000.0</td>\n",
       "      <td>2015-01-01</td>\n",
       "    </tr>\n",
       "    <tr>\n",
       "      <th>2983</th>\n",
       "      <td>tt8404272</td>\n",
       "      <td>How Long Will I Love U</td>\n",
       "      <td>Chao shi kong tong ju</td>\n",
       "      <td>2018-01-01</td>\n",
       "      <td>101.0</td>\n",
       "      <td>Romance</td>\n",
       "      <td>6.5</td>\n",
       "      <td>607</td>\n",
       "      <td>How Long Will I Love U</td>\n",
       "      <td>WGUSA</td>\n",
       "      <td>747000.0</td>\n",
       "      <td>82100000.0</td>\n",
       "      <td>2018-01-01</td>\n",
       "    </tr>\n",
       "    <tr>\n",
       "      <th>2984</th>\n",
       "      <td>tt8427036</td>\n",
       "      <td>Helicopter Eela</td>\n",
       "      <td>Helicopter Eela</td>\n",
       "      <td>2018-01-01</td>\n",
       "      <td>135.0</td>\n",
       "      <td>Drama</td>\n",
       "      <td>5.4</td>\n",
       "      <td>673</td>\n",
       "      <td>Helicopter Eela</td>\n",
       "      <td>Eros</td>\n",
       "      <td>72000.0</td>\n",
       "      <td>18700000.0</td>\n",
       "      <td>2018-01-01</td>\n",
       "    </tr>\n",
       "    <tr>\n",
       "      <th>2985</th>\n",
       "      <td>tt9078374</td>\n",
       "      <td>Last Letter</td>\n",
       "      <td>Ni hao, Zhihua</td>\n",
       "      <td>2018-01-01</td>\n",
       "      <td>114.0</td>\n",
       "      <td>Drama,Romance</td>\n",
       "      <td>6.4</td>\n",
       "      <td>322</td>\n",
       "      <td>Last Letter</td>\n",
       "      <td>CL</td>\n",
       "      <td>181000.0</td>\n",
       "      <td>18700000.0</td>\n",
       "      <td>2018-01-01</td>\n",
       "    </tr>\n",
       "    <tr>\n",
       "      <th>2986</th>\n",
       "      <td>tt9151704</td>\n",
       "      <td>Burn the Stage: The Movie</td>\n",
       "      <td>Burn the Stage: The Movie</td>\n",
       "      <td>2018-01-01</td>\n",
       "      <td>84.0</td>\n",
       "      <td>Documentary,Music</td>\n",
       "      <td>8.8</td>\n",
       "      <td>2067</td>\n",
       "      <td>Burn the Stage: The Movie</td>\n",
       "      <td>Trafalgar</td>\n",
       "      <td>4200000.0</td>\n",
       "      <td>16100000.0</td>\n",
       "      <td>2018-01-01</td>\n",
       "    </tr>\n",
       "  </tbody>\n",
       "</table>\n",
       "<p>2987 rows × 13 columns</p>\n",
       "</div>"
      ],
      "text/plain": [
       "         tconst                    primary_title  \\\n",
       "0     tt0315642                            Wazir   \n",
       "1     tt0337692                      On the Road   \n",
       "2     tt4339118                      On the Road   \n",
       "3     tt5647250                      On the Road   \n",
       "4     tt0359950  The Secret Life of Walter Mitty   \n",
       "...         ...                              ...   \n",
       "2982  tt8331988                  The Chambermaid   \n",
       "2983  tt8404272           How Long Will I Love U   \n",
       "2984  tt8427036                  Helicopter Eela   \n",
       "2985  tt9078374                      Last Letter   \n",
       "2986  tt9151704        Burn the Stage: The Movie   \n",
       "\n",
       "                       original_title start_year  runtime_minutes  \\\n",
       "0                               Wazir 2016-01-01            103.0   \n",
       "1                         On the Road 2012-01-01            124.0   \n",
       "2                         On the Road 2014-01-01             89.0   \n",
       "3                         On the Road 2016-01-01            121.0   \n",
       "4     The Secret Life of Walter Mitty 2013-01-01            114.0   \n",
       "...                               ...        ...              ...   \n",
       "2982                     La camarista 2018-01-01            102.0   \n",
       "2983            Chao shi kong tong ju 2018-01-01            101.0   \n",
       "2984                  Helicopter Eela 2018-01-01            135.0   \n",
       "2985                   Ni hao, Zhihua 2018-01-01            114.0   \n",
       "2986        Burn the Stage: The Movie 2018-01-01             84.0   \n",
       "\n",
       "                       genres  averagerating  numvotes  \\\n",
       "0          Action,Crime,Drama            7.1     15378   \n",
       "1     Adventure,Drama,Romance            6.1     37886   \n",
       "2                       Drama            6.0         6   \n",
       "3                       Drama            5.7       127   \n",
       "4      Adventure,Comedy,Drama            7.3    275300   \n",
       "...                       ...            ...       ...   \n",
       "2982                    Drama            7.1       147   \n",
       "2983                  Romance            6.5       607   \n",
       "2984                    Drama            5.4       673   \n",
       "2985            Drama,Romance            6.4       322   \n",
       "2986        Documentary,Music            8.8      2067   \n",
       "\n",
       "                                title     studio  domestic_gross  \\\n",
       "0                               Wazir    Relbig.       1100000.0   \n",
       "1                         On the Road        IFC        744000.0   \n",
       "2                         On the Road        IFC        744000.0   \n",
       "3                         On the Road        IFC        744000.0   \n",
       "4     The Secret Life of Walter Mitty        Fox      58200000.0   \n",
       "...                               ...        ...             ...   \n",
       "2982                  The Chambermaid         FM           300.0   \n",
       "2983           How Long Will I Love U      WGUSA        747000.0   \n",
       "2984                  Helicopter Eela       Eros         72000.0   \n",
       "2985                      Last Letter         CL        181000.0   \n",
       "2986        Burn the Stage: The Movie  Trafalgar       4200000.0   \n",
       "\n",
       "      foreign_gross       year  \n",
       "0        18700000.0 2016-01-01  \n",
       "1         8000000.0 2012-01-01  \n",
       "2         8000000.0 2012-01-01  \n",
       "3         8000000.0 2012-01-01  \n",
       "4       129900000.0 2013-01-01  \n",
       "...             ...        ...  \n",
       "2982     18700000.0 2015-01-01  \n",
       "2983     82100000.0 2018-01-01  \n",
       "2984     18700000.0 2018-01-01  \n",
       "2985     18700000.0 2018-01-01  \n",
       "2986     16100000.0 2018-01-01  \n",
       "\n",
       "[2987 rows x 13 columns]"
      ]
     },
     "execution_count": 49,
     "metadata": {},
     "output_type": "execute_result"
    }
   ],
   "source": [
    "merged_df2"
   ]
  },
  {
   "cell_type": "code",
   "execution_count": 50,
   "metadata": {},
   "outputs": [
    {
     "data": {
      "text/plain": [
       "(2987, 13)"
      ]
     },
     "execution_count": 50,
     "metadata": {},
     "output_type": "execute_result"
    }
   ],
   "source": [
    "merged_df2.shape"
   ]
  },
  {
   "cell_type": "code",
   "execution_count": 51,
   "metadata": {},
   "outputs": [
    {
     "data": {
      "text/plain": [
       "tconst             0\n",
       "primary_title      0\n",
       "original_title     0\n",
       "start_year         0\n",
       "runtime_minutes    0\n",
       "genres             0\n",
       "averagerating      0\n",
       "numvotes           0\n",
       "title              0\n",
       "studio             0\n",
       "domestic_gross     0\n",
       "foreign_gross      0\n",
       "year               0\n",
       "dtype: int64"
      ]
     },
     "execution_count": 51,
     "metadata": {},
     "output_type": "execute_result"
    }
   ],
   "source": [
    "missing_value_counts = merged_df2.isna().sum()\n",
    "missing_value_counts"
   ]
  },
  {
   "cell_type": "code",
   "execution_count": 52,
   "metadata": {},
   "outputs": [
    {
     "data": {
      "text/html": [
       "<div>\n",
       "<style scoped>\n",
       "    .dataframe tbody tr th:only-of-type {\n",
       "        vertical-align: middle;\n",
       "    }\n",
       "\n",
       "    .dataframe tbody tr th {\n",
       "        vertical-align: top;\n",
       "    }\n",
       "\n",
       "    .dataframe thead th {\n",
       "        text-align: right;\n",
       "    }\n",
       "</style>\n",
       "<table border=\"1\" class=\"dataframe\">\n",
       "  <thead>\n",
       "    <tr style=\"text-align: right;\">\n",
       "      <th></th>\n",
       "      <th>runtime_minutes</th>\n",
       "      <th>averagerating</th>\n",
       "      <th>numvotes</th>\n",
       "      <th>domestic_gross</th>\n",
       "      <th>foreign_gross</th>\n",
       "    </tr>\n",
       "  </thead>\n",
       "  <tbody>\n",
       "    <tr>\n",
       "      <th>count</th>\n",
       "      <td>2987.000000</td>\n",
       "      <td>2987.000000</td>\n",
       "      <td>2.987000e+03</td>\n",
       "      <td>2.987000e+03</td>\n",
       "      <td>2.987000e+03</td>\n",
       "    </tr>\n",
       "    <tr>\n",
       "      <th>mean</th>\n",
       "      <td>106.926678</td>\n",
       "      <td>6.456612</td>\n",
       "      <td>6.204782e+04</td>\n",
       "      <td>3.058193e+07</td>\n",
       "      <td>5.485083e+07</td>\n",
       "    </tr>\n",
       "    <tr>\n",
       "      <th>std</th>\n",
       "      <td>20.117506</td>\n",
       "      <td>1.013003</td>\n",
       "      <td>1.261075e+05</td>\n",
       "      <td>6.674577e+07</td>\n",
       "      <td>1.118784e+08</td>\n",
       "    </tr>\n",
       "    <tr>\n",
       "      <th>min</th>\n",
       "      <td>3.000000</td>\n",
       "      <td>1.600000</td>\n",
       "      <td>5.000000e+00</td>\n",
       "      <td>1.000000e+02</td>\n",
       "      <td>6.000000e+02</td>\n",
       "    </tr>\n",
       "    <tr>\n",
       "      <th>25%</th>\n",
       "      <td>93.000000</td>\n",
       "      <td>5.900000</td>\n",
       "      <td>2.090000e+03</td>\n",
       "      <td>1.475000e+05</td>\n",
       "      <td>1.285000e+07</td>\n",
       "    </tr>\n",
       "    <tr>\n",
       "      <th>50%</th>\n",
       "      <td>104.000000</td>\n",
       "      <td>6.600000</td>\n",
       "      <td>1.323900e+04</td>\n",
       "      <td>2.000000e+06</td>\n",
       "      <td>1.870000e+07</td>\n",
       "    </tr>\n",
       "    <tr>\n",
       "      <th>75%</th>\n",
       "      <td>118.000000</td>\n",
       "      <td>7.200000</td>\n",
       "      <td>6.376700e+04</td>\n",
       "      <td>3.250000e+07</td>\n",
       "      <td>3.480000e+07</td>\n",
       "    </tr>\n",
       "    <tr>\n",
       "      <th>max</th>\n",
       "      <td>272.000000</td>\n",
       "      <td>9.200000</td>\n",
       "      <td>1.841066e+06</td>\n",
       "      <td>7.001000e+08</td>\n",
       "      <td>9.464000e+08</td>\n",
       "    </tr>\n",
       "  </tbody>\n",
       "</table>\n",
       "</div>"
      ],
      "text/plain": [
       "       runtime_minutes  averagerating      numvotes  domestic_gross  \\\n",
       "count      2987.000000    2987.000000  2.987000e+03    2.987000e+03   \n",
       "mean        106.926678       6.456612  6.204782e+04    3.058193e+07   \n",
       "std          20.117506       1.013003  1.261075e+05    6.674577e+07   \n",
       "min           3.000000       1.600000  5.000000e+00    1.000000e+02   \n",
       "25%          93.000000       5.900000  2.090000e+03    1.475000e+05   \n",
       "50%         104.000000       6.600000  1.323900e+04    2.000000e+06   \n",
       "75%         118.000000       7.200000  6.376700e+04    3.250000e+07   \n",
       "max         272.000000       9.200000  1.841066e+06    7.001000e+08   \n",
       "\n",
       "       foreign_gross  \n",
       "count   2.987000e+03  \n",
       "mean    5.485083e+07  \n",
       "std     1.118784e+08  \n",
       "min     6.000000e+02  \n",
       "25%     1.285000e+07  \n",
       "50%     1.870000e+07  \n",
       "75%     3.480000e+07  \n",
       "max     9.464000e+08  "
      ]
     },
     "execution_count": 52,
     "metadata": {},
     "output_type": "execute_result"
    }
   ],
   "source": [
    "# The gross values columns and the numvotes column are in millions\n",
    "merged_df2.describe()"
   ]
  },
  {
   "cell_type": "code",
   "execution_count": 53,
   "metadata": {},
   "outputs": [
    {
     "data": {
      "text/plain": [
       "array(['Action,Crime,Drama', 'Adventure,Drama,Romance', 'Drama',\n",
       "       'Adventure,Comedy,Drama', 'Action,Adventure,Sci-Fi',\n",
       "       'Action,Comedy,Crime', 'Comedy,Drama', 'Crime,Drama',\n",
       "       'Comedy,Family', 'Adventure,Animation,Comedy',\n",
       "       'Crime,Drama,Thriller', 'Drama,Mystery,Sci-Fi', 'Drama,Thriller',\n",
       "       'Comedy,Romance', 'Biography,Drama,History', 'Comedy',\n",
       "       'Action,Adventure,Thriller', 'Horror,Mystery,Thriller',\n",
       "       'Action,Drama,Family', 'Drama,Romance,Sci-Fi',\n",
       "       'Comedy,Drama,Romance', 'Documentary,Drama,News',\n",
       "       'Action,Comedy,Fantasy', 'Action,Adventure,Animation',\n",
       "       'Action,Adventure,Fantasy', 'Sci-Fi', 'Documentary,Drama,Sport',\n",
       "       'Adventure,Drama,Fantasy', 'Horror,Thriller',\n",
       "       'Action,Crime,Thriller', 'Adventure,Comedy,Western',\n",
       "       'Drama,Horror,Sci-Fi', 'Comedy,Horror', 'Action,Thriller',\n",
       "       'Documentary', 'Action,Crime', 'Drama,Fantasy',\n",
       "       'Action,Adventure,Comedy', 'Action,Adventure,Crime',\n",
       "       'Action,Adventure,Drama', 'Comedy,Crime,Drama',\n",
       "       'Drama,History,Romance', 'Adventure,Comedy,Family',\n",
       "       'Animation,Family', 'Drama,Horror,Mystery', 'Documentary,Music',\n",
       "       'Drama,Fantasy,Horror', 'Biography,Drama',\n",
       "       'Adventure,Comedy,Fantasy', 'Biography,Drama,Romance',\n",
       "       'Biography,Drama,Music', 'Drama,War', 'Comedy,Family,Fantasy',\n",
       "       'Horror', 'Adventure,Drama,Sci-Fi', 'Action,Adventure,Horror',\n",
       "       'Action,Drama,Fantasy', 'Animation,Comedy,Family',\n",
       "       'Adventure,Animation,Family', 'Action,Crime,Horror',\n",
       "       'Drama,Romance', 'Adventure,Drama,Thriller',\n",
       "       'Action,Drama,Thriller', 'Action,Biography,Crime',\n",
       "       'Adventure,Family,Fantasy', 'Action,Adventure,Family',\n",
       "       'Action,Mystery,Thriller', 'Action,Drama,Sci-Fi',\n",
       "       'Crime,Drama,Horror', 'Action,Drama', 'Unknown',\n",
       "       'Biography,Drama,Sport', 'Crime,Drama,History',\n",
       "       'Adventure,Drama,Family', 'Biography,Comedy,Drama',\n",
       "       'Drama,Romance,War', 'Biography,Crime,Drama',\n",
       "       'Action,Animation,Comedy', 'Action', 'Adventure,Animation,Drama',\n",
       "       'Adventure', 'Adventure,Drama,History', 'Biography,Drama,Thriller',\n",
       "       'Biography,Drama,Family', 'Action,Fantasy,Western',\n",
       "       'Action,Comedy,Sci-Fi', 'Fantasy,Horror,Mystery',\n",
       "       'Action,Comedy,Romance', 'Action,Family,Fantasy',\n",
       "       'Comedy,Drama,Music', 'Action,Fantasy,Horror',\n",
       "       'Action,Crime,Sci-Fi', 'Action,Fantasy,Thriller',\n",
       "       'Biography,Drama,Fantasy', 'Comedy,Fantasy,Horror',\n",
       "       'Drama,Mystery,Thriller', 'Action,Biography,Drama', 'Animation',\n",
       "       'Adventure,Comedy,Sci-Fi', 'Crime,Drama,Mystery',\n",
       "       'Crime,Mystery,Thriller', 'Documentary,News',\n",
       "       'Drama,Horror,Thriller', 'Drama,Fantasy,Sci-Fi',\n",
       "       'Drama,Music,Musical', 'Mystery,Thriller', 'Thriller',\n",
       "       'Drama,Fantasy,Romance', 'Biography,Documentary',\n",
       "       'Adventure,Fantasy', 'Adventure,Biography,Comedy',\n",
       "       'Biography,Documentary,Music', 'Biography,Comedy,Crime',\n",
       "       'Comedy,Drama,Family', 'Action,Drama,Romance',\n",
       "       'Comedy,Crime,Mystery', 'Action,Adventure,Western',\n",
       "       'Action,Crime,Mystery', 'Adventure,Biography,Drama',\n",
       "       'Mystery,Sci-Fi,Thriller', 'Comedy,Family,Romance',\n",
       "       'Adventure,Documentary', 'Adventure,Comedy,Music', 'Drama,Music',\n",
       "       'Adventure,Comedy', 'Comedy,Sci-Fi', 'Drama,Mystery,Romance',\n",
       "       'Biography,Documentary,Sport', 'Action,Comedy', 'Horror,Mystery',\n",
       "       'Fantasy,Horror,Thriller', 'Action,Comedy,Family',\n",
       "       'Comedy,Drama,Fantasy', 'Comedy,Crime,Romance', 'Drama,Sport',\n",
       "       'Crime,Thriller', 'Drama,Music,Romance', 'Action,Comedy,Horror',\n",
       "       'Horror,Romance', 'Biography,Drama,War', 'Adventure,Drama,Mystery',\n",
       "       'Crime,Documentary', 'Comedy,Crime,History',\n",
       "       'Adventure,Drama,Sport', 'Fantasy,Romance', 'Drama,History',\n",
       "       'Crime,Horror,Mystery', 'Comedy,Drama,Musical',\n",
       "       'Drama,Fantasy,Music', 'Animation,Comedy,Fantasy',\n",
       "       'Drama,Romance,Thriller', 'Drama,Fantasy,Thriller',\n",
       "       'Drama,Mystery,Western', 'Action,Drama,Mystery',\n",
       "       'Drama,Thriller,War', 'Drama,History,War', 'Animation,Drama',\n",
       "       'Romance,Sci-Fi,Thriller', 'Drama,Sci-Fi', 'Comedy,Crime,Thriller',\n",
       "       'Action,Adventure,Biography', 'Drama,Mystery',\n",
       "       'Adventure,Fantasy,Horror', 'Adventure,Drama,Western',\n",
       "       'Comedy,Romance,Sport', 'Family,Sport', 'Comedy,Mystery',\n",
       "       'Action,Drama,History', 'Drama,Family,Music', 'Drama,Family',\n",
       "       'Documentary,Family', 'Action,History,Thriller',\n",
       "       'Adventure,Mystery,Sci-Fi', 'Drama,Sci-Fi,Thriller',\n",
       "       'Drama,History,Thriller', 'Drama,Fantasy,Mystery',\n",
       "       'Comedy,Drama,Sport', 'Biography,Drama,Musical',\n",
       "       'Action,Drama,War', 'Comedy,Fantasy', 'Documentary,History',\n",
       "       'Comedy,Drama,Mystery', 'Comedy,Crime', 'Romance,Thriller',\n",
       "       'Action,Comedy,Drama', 'Drama,Western', 'Comedy,Mystery,Romance',\n",
       "       'Crime,Drama,Fantasy', 'Thriller,Western', 'Action,Comedy,Western',\n",
       "       'Crime,Drama,Romance', 'Crime,Documentary,History',\n",
       "       'Documentary,War', 'Action,History', 'Family',\n",
       "       'Action,Sci-Fi,Thriller', 'Comedy,Drama,Horror',\n",
       "       'Documentary,Drama,Mystery', 'Comedy,Crime,Documentary',\n",
       "       'Comedy,Horror,Romance', 'Action,Sci-Fi', 'Comedy,Fantasy,Romance',\n",
       "       'Biography,Documentary,Drama', 'Adventure,History', 'Drama,Horror',\n",
       "       'Comedy,Mystery,Thriller', 'Biography,Documentary,History',\n",
       "       'Adventure,Drama', 'Action,Comedy,Sport', 'Fantasy',\n",
       "       'Action,Horror,Mystery', 'Action,Adventure', 'Documentary,Drama',\n",
       "       'Horror,Sci-Fi,Thriller', 'Biography', 'Crime',\n",
       "       'Comedy,Documentary,Drama', 'Documentary,Drama,Family',\n",
       "       'Action,Documentary,History', 'Documentary,Musical',\n",
       "       'Action,Horror,Thriller', 'Action,Drama,Horror', 'Mystery',\n",
       "       'Horror,Mystery,Sci-Fi', 'Action,Mystery,Sci-Fi',\n",
       "       'Animation,Drama,Family', 'Drama,History,Sport', 'Comedy,Thriller',\n",
       "       'Animation,Drama,Sci-Fi', 'Animation,Fantasy',\n",
       "       'Drama,Musical,Romance', 'Action,Adventure,Mystery',\n",
       "       'Adventure,Crime,Drama', 'Mystery,Romance,Thriller',\n",
       "       'Action,Horror,Sci-Fi', 'Action,Fantasy,Romance',\n",
       "       'Comedy,Music,Romance', 'Sport', 'Adventure,Comedy,Crime',\n",
       "       'Comedy,Family,Sci-Fi', 'Drama,Sport,Thriller',\n",
       "       'Action,Comedy,Thriller', 'Biography,Crime,Documentary',\n",
       "       'Crime,Documentary,Drama', 'Action,Comedy,Musical',\n",
       "       'Animation,Biography,Drama', 'Action,Romance,Thriller',\n",
       "       'Action,Sport,War', 'Biography,Comedy', 'Horror,Romance,Thriller',\n",
       "       'Action,Drama,Western', 'Fantasy,Thriller', 'Music',\n",
       "       'Comedy,Drama,History', 'Comedy,Musical',\n",
       "       'Adventure,Family,Sci-Fi', 'Romance', 'Comedy,Musical,Romance',\n",
       "       'Adventure,Thriller', 'Drama,Family,Sport', 'Adventure,Family',\n",
       "       'Animation,Comedy,Drama', 'Action,Animation',\n",
       "       'Fantasy,Mystery,Romance', 'Adventure,Horror',\n",
       "       'Crime,Horror,Thriller', 'Documentary,History,News',\n",
       "       'Documentary,Drama,History', 'Comedy,Western',\n",
       "       'Comedy,Horror,Thriller', 'Comedy,Documentary',\n",
       "       'Comedy,Mystery,Sci-Fi', 'Action,Drama,Sport',\n",
       "       'Biography,Documentary,Mystery', 'Action,Horror',\n",
       "       'Biography,Documentary,Family', 'Adventure,Comedy,Romance',\n",
       "       'Comedy,Music', 'Documentary,Drama,Music',\n",
       "       'Adventure,Drama,Horror', 'Drama,War,Western',\n",
       "       'Comedy,Drama,Thriller', 'Action,Romance', 'Adventure,Western',\n",
       "       'Adventure,Biography,Documentary', 'Crime,Romance,Thriller',\n",
       "       'Animation,Biography,Crime', 'Biography,Comedy,Documentary',\n",
       "       'Animation,Drama,Fantasy', 'Documentary,Drama,Romance',\n",
       "       'Action,Biography,Comedy', 'Comedy,Drama,War', 'Crime,Drama,War',\n",
       "       'Action,Sport', 'Adventure,Documentary,Sport',\n",
       "       'Biography,Documentary,Thriller', 'Action,Animation,Drama',\n",
       "       'Fantasy,Horror', 'Horror,Music,Thriller',\n",
       "       'Biography,History,Thriller', 'Action,Animation,Sci-Fi',\n",
       "       'Comedy,Crime,Horror', 'Action,Comedy,War',\n",
       "       'Animation,Drama,History', 'Action,Animation,Crime',\n",
       "       'Action,Biography,History', 'Crime,Mystery', 'Documentary,Mystery',\n",
       "       'Animation,Drama,Romance', 'Action,Fantasy',\n",
       "       'Fantasy,Romance,Thriller', 'Adventure,Comedy,Horror',\n",
       "       'Adventure,Comedy,History', 'Action,Drama,Music',\n",
       "       'Documentary,History,War', 'Comedy,History', 'Comedy,Sport',\n",
       "       'Action,Comedy,Mystery', 'Documentary,Sport'], dtype=object)"
      ]
     },
     "execution_count": 53,
     "metadata": {},
     "output_type": "execute_result"
    }
   ],
   "source": [
    "# Get the list of unique genres\n",
    "genres_list = merged_df2['genres'].unique()\n",
    "\n",
    "# Print the list of genres\n",
    "genres_list"
   ]
  },
  {
   "cell_type": "code",
   "execution_count": 54,
   "metadata": {},
   "outputs": [
    {
     "data": {
      "text/html": [
       "<div>\n",
       "<style scoped>\n",
       "    .dataframe tbody tr th:only-of-type {\n",
       "        vertical-align: middle;\n",
       "    }\n",
       "\n",
       "    .dataframe tbody tr th {\n",
       "        vertical-align: top;\n",
       "    }\n",
       "\n",
       "    .dataframe thead th {\n",
       "        text-align: right;\n",
       "    }\n",
       "</style>\n",
       "<table border=\"1\" class=\"dataframe\">\n",
       "  <thead>\n",
       "    <tr style=\"text-align: right;\">\n",
       "      <th></th>\n",
       "      <th>genres</th>\n",
       "      <th>domestic_gross</th>\n",
       "    </tr>\n",
       "  </thead>\n",
       "  <tbody>\n",
       "    <tr>\n",
       "      <th>107</th>\n",
       "      <td>Adventure,Drama,Sport</td>\n",
       "      <td>4.007000e+08</td>\n",
       "    </tr>\n",
       "    <tr>\n",
       "      <th>11</th>\n",
       "      <td>Action,Adventure,Sci-Fi</td>\n",
       "      <td>2.345681e+08</td>\n",
       "    </tr>\n",
       "    <tr>\n",
       "      <th>106</th>\n",
       "      <td>Adventure,Drama,Sci-Fi</td>\n",
       "      <td>2.082000e+08</td>\n",
       "    </tr>\n",
       "    <tr>\n",
       "      <th>234</th>\n",
       "      <td>Documentary,Drama,Sport</td>\n",
       "      <td>2.067250e+08</td>\n",
       "    </tr>\n",
       "    <tr>\n",
       "      <th>314</th>\n",
       "      <td>Sci-Fi</td>\n",
       "      <td>2.063390e+08</td>\n",
       "    </tr>\n",
       "    <tr>\n",
       "      <th>...</th>\n",
       "      <td>...</td>\n",
       "      <td>...</td>\n",
       "    </tr>\n",
       "    <tr>\n",
       "      <th>164</th>\n",
       "      <td>Comedy,Crime,History</td>\n",
       "      <td>4.800000e+03</td>\n",
       "    </tr>\n",
       "    <tr>\n",
       "      <th>134</th>\n",
       "      <td>Biography</td>\n",
       "      <td>4.300000e+03</td>\n",
       "    </tr>\n",
       "    <tr>\n",
       "      <th>66</th>\n",
       "      <td>Action,Horror,Mystery</td>\n",
       "      <td>2.800000e+03</td>\n",
       "    </tr>\n",
       "    <tr>\n",
       "      <th>296</th>\n",
       "      <td>Fantasy,Thriller</td>\n",
       "      <td>1.400000e+03</td>\n",
       "    </tr>\n",
       "    <tr>\n",
       "      <th>206</th>\n",
       "      <td>Comedy,Thriller</td>\n",
       "      <td>8.000000e+02</td>\n",
       "    </tr>\n",
       "  </tbody>\n",
       "</table>\n",
       "<p>319 rows × 2 columns</p>\n",
       "</div>"
      ],
      "text/plain": [
       "                      genres  domestic_gross\n",
       "107    Adventure,Drama,Sport    4.007000e+08\n",
       "11   Action,Adventure,Sci-Fi    2.345681e+08\n",
       "106   Adventure,Drama,Sci-Fi    2.082000e+08\n",
       "234  Documentary,Drama,Sport    2.067250e+08\n",
       "314                   Sci-Fi    2.063390e+08\n",
       "..                       ...             ...\n",
       "164     Comedy,Crime,History    4.800000e+03\n",
       "134                Biography    4.300000e+03\n",
       "66     Action,Horror,Mystery    2.800000e+03\n",
       "296         Fantasy,Thriller    1.400000e+03\n",
       "206          Comedy,Thriller    8.000000e+02\n",
       "\n",
       "[319 rows x 2 columns]"
      ]
     },
     "execution_count": 54,
     "metadata": {},
     "output_type": "execute_result"
    }
   ],
   "source": [
    "# Calculate the average revenue for each genre\n",
    "genre_revenue = merged_df2.groupby('genres')['domestic_gross'].mean().reset_index()\n",
    "\n",
    "# Sort the genres based on average revenue in descending order\n",
    "profitable_genres = genre_revenue.sort_values(by='domestic_gross', ascending=False)\n",
    "\n",
    "# Display the top profitable genres\n",
    "profitable_genres"
   ]
  },
  {
   "cell_type": "markdown",
   "metadata": {},
   "source": [
    "Here we get to work on the business problems one by one the first one being;\n",
    "\n",
    " 1.Understanding the relationship between ratings and revenue we use the domestic_gross. \n",
    "\n",
    "From what we are getting as the correlation coeffient it means that there is no relationship between the ratings and the      domestic revenue generated by a movie"
   ]
  },
  {
   "cell_type": "code",
   "execution_count": 55,
   "metadata": {},
   "outputs": [
    {
     "name": "stdout",
     "output_type": "stream",
     "text": [
      "Corr between the ratings and revenue: 0.12\n"
     ]
    }
   ],
   "source": [
    "# Calculate the correlation coefficient between ratings and revenue\n",
    "correlation_coefficient = merged_df2['averagerating'].corr(merged_df2['domestic_gross']).round(2)\n",
    "\n",
    "# Print the correlation coefficient\n",
    "print(\"Corr between the ratings and revenue:\", correlation_coefficient)"
   ]
  },
  {
   "cell_type": "markdown",
   "metadata": {},
   "source": [
    "Now we look at the second problem which is;\n",
    "\n",
    " 2.Assessing the trend in movie release years"
   ]
  },
  {
   "cell_type": "code",
   "execution_count": 56,
   "metadata": {},
   "outputs": [
    {
     "data": {
      "text/html": [
       "<div>\n",
       "<style scoped>\n",
       "    .dataframe tbody tr th:only-of-type {\n",
       "        vertical-align: middle;\n",
       "    }\n",
       "\n",
       "    .dataframe tbody tr th {\n",
       "        vertical-align: top;\n",
       "    }\n",
       "\n",
       "    .dataframe thead th {\n",
       "        text-align: right;\n",
       "    }\n",
       "</style>\n",
       "<table border=\"1\" class=\"dataframe\">\n",
       "  <thead>\n",
       "    <tr style=\"text-align: right;\">\n",
       "      <th></th>\n",
       "      <th>tconst</th>\n",
       "      <th>primary_title</th>\n",
       "      <th>original_title</th>\n",
       "      <th>start_year</th>\n",
       "      <th>runtime_minutes</th>\n",
       "      <th>genres</th>\n",
       "      <th>averagerating</th>\n",
       "      <th>numvotes</th>\n",
       "      <th>title</th>\n",
       "      <th>studio</th>\n",
       "      <th>domestic_gross</th>\n",
       "      <th>foreign_gross</th>\n",
       "      <th>year</th>\n",
       "      <th>release_year</th>\n",
       "    </tr>\n",
       "  </thead>\n",
       "  <tbody>\n",
       "    <tr>\n",
       "      <th>0</th>\n",
       "      <td>tt0315642</td>\n",
       "      <td>Wazir</td>\n",
       "      <td>Wazir</td>\n",
       "      <td>2016-01-01</td>\n",
       "      <td>103.0</td>\n",
       "      <td>Action,Crime,Drama</td>\n",
       "      <td>7.1</td>\n",
       "      <td>15378</td>\n",
       "      <td>Wazir</td>\n",
       "      <td>Relbig.</td>\n",
       "      <td>1100000.0</td>\n",
       "      <td>18700000.0</td>\n",
       "      <td>2016-01-01</td>\n",
       "      <td>2016</td>\n",
       "    </tr>\n",
       "    <tr>\n",
       "      <th>1</th>\n",
       "      <td>tt0337692</td>\n",
       "      <td>On the Road</td>\n",
       "      <td>On the Road</td>\n",
       "      <td>2012-01-01</td>\n",
       "      <td>124.0</td>\n",
       "      <td>Adventure,Drama,Romance</td>\n",
       "      <td>6.1</td>\n",
       "      <td>37886</td>\n",
       "      <td>On the Road</td>\n",
       "      <td>IFC</td>\n",
       "      <td>744000.0</td>\n",
       "      <td>8000000.0</td>\n",
       "      <td>2012-01-01</td>\n",
       "      <td>2012</td>\n",
       "    </tr>\n",
       "  </tbody>\n",
       "</table>\n",
       "</div>"
      ],
      "text/plain": [
       "      tconst primary_title original_title start_year  runtime_minutes  \\\n",
       "0  tt0315642         Wazir          Wazir 2016-01-01            103.0   \n",
       "1  tt0337692   On the Road    On the Road 2012-01-01            124.0   \n",
       "\n",
       "                    genres  averagerating  numvotes        title   studio  \\\n",
       "0       Action,Crime,Drama            7.1     15378        Wazir  Relbig.   \n",
       "1  Adventure,Drama,Romance            6.1     37886  On the Road      IFC   \n",
       "\n",
       "   domestic_gross  foreign_gross       year  release_year  \n",
       "0       1100000.0     18700000.0 2016-01-01          2016  \n",
       "1        744000.0      8000000.0 2012-01-01          2012  "
      ]
     },
     "execution_count": 56,
     "metadata": {},
     "output_type": "execute_result"
    }
   ],
   "source": [
    "# Convert the 'year' column to datetime if it's not already in datetime format\n",
    "merged_df2['year'] = pd.to_datetime(merged_df2['year'], format='%Y')\n",
    "\n",
    "# Extract the year from the datetime and create a new column 'release_year'\n",
    "merged_df2['release_year'] = merged_df2['year'].dt.year\n",
    "\n",
    "# Group by 'release_year' and count the number of movies released in each year\n",
    "release_year_counts = merged_df2['release_year'].value_counts().sort_index()\n",
    "\n",
    "merged_df2.head(2)"
   ]
  },
  {
   "cell_type": "code",
   "execution_count": 57,
   "metadata": {},
   "outputs": [
    {
     "data": {
      "image/png": "[encoded data removed]",
      "text/plain": [
       "<Figure size 720x432 with 1 Axes>"
      ]
     },
     "metadata": {
      "needs_background": "light"
     },
     "output_type": "display_data"
    }
   ],
   "source": [
    "# Plot the trend in movie release years\n",
    "plt.figure(figsize=(10, 6))\n",
    "plt.plot(release_year_counts.index, release_year_counts.values, marker='o', linestyle='-')\n",
    "plt.xlabel('Release Year')\n",
    "plt.ylabel('Number of Movies Released')\n",
    "plt.title('Trend in Movie Release Years')\n",
    "plt.grid(True)\n",
    "plt.xticks(rotation=45)\n",
    "\n",
    "plt.show()"
   ]
  },
  {
   "cell_type": "markdown",
   "metadata": {},
   "source": [
    "From the line graph representation above we can depict that the release of movies has seen a steady increase since 2010, but started declining in 2011, however, it again gained momentum until its peak in 2015 where most movies were released only to decline again over the years.\n",
    "\n",
    "Additionally I have gone ahead to find the top 10 movie genres that were released in 2015, according to their average ratings and found that Documentary,News with a rating of 8.30 and Comedy,Drama,Thriller with a rating of 8.10 were top of the list that year.            "
   ]
  },
  {
   "cell_type": "code",
   "execution_count": 58,
   "metadata": {},
   "outputs": [
    {
     "name": "stdout",
     "output_type": "stream",
     "text": [
      "genres\n",
      "Documentary,News                 8.30\n",
      "Comedy,Drama,Thriller            8.10\n",
      "Action,Comedy,Drama              8.00\n",
      "Adventure,Drama,Sci-Fi           8.00\n",
      "Biography,Documentary,History    7.95\n",
      "Action,Biography,History         7.70\n",
      "Animation,Drama,Family           7.70\n",
      "Comedy,Horror                    7.70\n",
      "Action,Adventure,Animation       7.65\n",
      "Biography,Documentary,Music      7.57\n",
      "Name: averagerating, dtype: float64\n"
     ]
    }
   ],
   "source": [
    "# Filter the DataFrame to include only rows where the 'release_year' is 2015\n",
    "movies_2015 = merged_df2[merged_df2['release_year'] == 2015]\n",
    "\n",
    "# Group the data by 'genres' and calculate the average rating for each genre\n",
    "genre_ratings_2015 = movies_2015.groupby('genres')['averagerating'].mean().round(2)\n",
    "\n",
    "# Get the top 10 genres based on their average ratings\n",
    "top_10_genres = genre_ratings_2015.nlargest(10)\n",
    "\n",
    "# Display the top 10 genres and their average ratings in movies released in 2015\n",
    "print(top_10_genres)"
   ]
  },
  {
   "cell_type": "markdown",
   "metadata": {},
   "source": [
    "The third business problem goes;\n",
    "\n",
    "3.Identify profitable movie genres and studios that made them."
   ]
  },
  {
   "cell_type": "code",
   "execution_count": 59,
   "metadata": {},
   "outputs": [
    {
     "data": {
      "text/html": [
       "<div>\n",
       "<style scoped>\n",
       "    .dataframe tbody tr th:only-of-type {\n",
       "        vertical-align: middle;\n",
       "    }\n",
       "\n",
       "    .dataframe tbody tr th {\n",
       "        vertical-align: top;\n",
       "    }\n",
       "\n",
       "    .dataframe thead th {\n",
       "        text-align: right;\n",
       "    }\n",
       "</style>\n",
       "<table border=\"1\" class=\"dataframe\">\n",
       "  <thead>\n",
       "    <tr style=\"text-align: right;\">\n",
       "      <th></th>\n",
       "      <th>genres</th>\n",
       "      <th>averagerating</th>\n",
       "    </tr>\n",
       "  </thead>\n",
       "  <tbody>\n",
       "    <tr>\n",
       "      <th>78</th>\n",
       "      <td>Adventure</td>\n",
       "      <td>9.2</td>\n",
       "    </tr>\n",
       "    <tr>\n",
       "      <th>75</th>\n",
       "      <td>Action,Sport</td>\n",
       "      <td>8.4</td>\n",
       "    </tr>\n",
       "    <tr>\n",
       "      <th>143</th>\n",
       "      <td>Biography,Documentary,Family</td>\n",
       "      <td>8.3</td>\n",
       "    </tr>\n",
       "    <tr>\n",
       "      <th>106</th>\n",
       "      <td>Adventure,Drama,Sci-Fi</td>\n",
       "      <td>8.3</td>\n",
       "    </tr>\n",
       "    <tr>\n",
       "      <th>243</th>\n",
       "      <td>Documentary,Sport</td>\n",
       "      <td>8.2</td>\n",
       "    </tr>\n",
       "    <tr>\n",
       "      <th>...</th>\n",
       "      <td>...</td>\n",
       "      <td>...</td>\n",
       "    </tr>\n",
       "    <tr>\n",
       "      <th>197</th>\n",
       "      <td>Comedy,Musical,Romance</td>\n",
       "      <td>3.5</td>\n",
       "    </tr>\n",
       "    <tr>\n",
       "      <th>49</th>\n",
       "      <td>Action,Drama,Music</td>\n",
       "      <td>3.4</td>\n",
       "    </tr>\n",
       "    <tr>\n",
       "      <th>273</th>\n",
       "      <td>Drama,Mystery,Western</td>\n",
       "      <td>3.4</td>\n",
       "    </tr>\n",
       "    <tr>\n",
       "      <th>186</th>\n",
       "      <td>Comedy,Family,Sci-Fi</td>\n",
       "      <td>2.6</td>\n",
       "    </tr>\n",
       "    <tr>\n",
       "      <th>206</th>\n",
       "      <td>Comedy,Thriller</td>\n",
       "      <td>2.1</td>\n",
       "    </tr>\n",
       "  </tbody>\n",
       "</table>\n",
       "<p>319 rows × 2 columns</p>\n",
       "</div>"
      ],
      "text/plain": [
       "                           genres  averagerating\n",
       "78                      Adventure            9.2\n",
       "75                   Action,Sport            8.4\n",
       "143  Biography,Documentary,Family            8.3\n",
       "106        Adventure,Drama,Sci-Fi            8.3\n",
       "243             Documentary,Sport            8.2\n",
       "..                            ...            ...\n",
       "197        Comedy,Musical,Romance            3.5\n",
       "49             Action,Drama,Music            3.4\n",
       "273         Drama,Mystery,Western            3.4\n",
       "186          Comedy,Family,Sci-Fi            2.6\n",
       "206               Comedy,Thriller            2.1\n",
       "\n",
       "[319 rows x 2 columns]"
      ]
     },
     "execution_count": 59,
     "metadata": {},
     "output_type": "execute_result"
    }
   ],
   "source": [
    "# Group the data by 'genres' and calculate the average rating for each genre\n",
    "genre_ratings = merged_df2.groupby('genres')['averagerating'].mean().reset_index()\n",
    "\n",
    "# Sort the genres based on average rating in ascending order\n",
    "genre_ratings_sorted = genre_ratings.sort_values(by='averagerating', ascending=False)\n",
    "\n",
    "genre_ratings_sorted"
   ]
  },
  {
   "cell_type": "code",
   "execution_count": 60,
   "metadata": {},
   "outputs": [
    {
     "data": {
      "image/png": "[encoded data removed]",
      "text/plain": [
       "<Figure size 720x432 with 1 Axes>"
      ]
     },
     "metadata": {},
     "output_type": "display_data"
    }
   ],
   "source": [
    "# Here we first need to know the top 10 highest average rating genres in the merged_df2 dataset\n",
    "# Step 1: Calculate the average ratings for each genre\n",
    "genre_ratings = merged_df2.groupby('genres')['averagerating'].mean().reset_index()\n",
    "\n",
    "# Step 2: Sort the genres based on average ratings in descending order\n",
    "genre_ratings_sorted = genre_ratings.sort_values(by='averagerating', ascending=False)\n",
    "\n",
    "# Step 3: Select the top genres with the highest average ratings\n",
    "top_genres = genre_ratings_sorted.head(10)\n",
    "\n",
    "# Set the Seaborn style\n",
    "sns.set_style('whitegrid') \n",
    "\n",
    "# Create a stacked vertical bar plot\n",
    "plt.figure(figsize=(10, 6))\n",
    "sns.barplot(x='genres', y='averagerating', data=top_genres, palette='coolwarm', ci=None)\n",
    "plt.xlabel('Genres')\n",
    "plt.ylabel('Average Rating')\n",
    "plt.title('Top 10 Genres with Highest Average Ratings')\n",
    "plt.xticks(rotation=75)\n",
    "\n",
    "plt.show()"
   ]
  },
  {
   "cell_type": "markdown",
   "metadata": {},
   "source": [
    "To find the profitable movie genres in the domestic_gross and foreign_gross columns, then we can also consider finding the profitable genres with the combined new column named total_gross that combines the two gross revenues."
   ]
  },
  {
   "cell_type": "code",
   "execution_count": 61,
   "metadata": {},
   "outputs": [
    {
     "name": "stdout",
     "output_type": "stream",
     "text": [
      "                         genres  foreign_gross\n",
      "79   Adventure,Animation,Comedy   1.758370e+10\n",
      "11      Action,Adventure,Sci-Fi   1.663010e+10\n",
      "8      Action,Adventure,Fantasy   8.936100e+09\n",
      "245                       Drama   7.200962e+09\n",
      "4       Action,Adventure,Comedy   6.625100e+09\n",
      "12    Action,Adventure,Thriller   4.767000e+09\n",
      "2    Action,Adventure,Animation   4.344300e+09\n",
      "6        Action,Adventure,Drama   3.737464e+09\n",
      "226                 Documentary   3.182854e+09\n",
      "160                      Comedy   3.153874e+09\n"
     ]
    }
   ],
   "source": [
    "# Group the data by genre and calculate the total foreign gross for each genre\n",
    "foreign_gross_by_genre = merged_df2.groupby('genres')['foreign_gross'].sum().reset_index()\n",
    "\n",
    "# Sort the genres based on the total foreign gross in descending order\n",
    "foreign_gross_by_genre_sorted = foreign_gross_by_genre.sort_values(by='foreign_gross', ascending=False)\n",
    "\n",
    "# Display the top genres with the highest foreign gross\n",
    "print(foreign_gross_by_genre_sorted.head(10))"
   ]
  },
  {
   "cell_type": "code",
   "execution_count": 62,
   "metadata": {},
   "outputs": [
    {
     "data": {
      "image/png": "[encoded data removed]",
      "text/plain": [
       "<Figure size 720x432 with 1 Axes>"
      ]
     },
     "metadata": {},
     "output_type": "display_data"
    }
   ],
   "source": [
    "# Plot the bar graph using Seaborn to get the top 10 genres with highest foreign income\n",
    "plt.figure(figsize=(10, 6))\n",
    "sns.barplot(x='foreign_gross', y='genres', data=foreign_gross_by_genre_sorted.head(10), palette='PiYG_r')\n",
    "plt.xlabel('Foreign Gross')\n",
    "plt.ylabel('Genres')\n",
    "plt.title('Top 10 Genres with Highest Foreign Income')\n",
    "plt.grid(which='both', linestyle='--', linewidth=0.8)\n",
    "\n",
    "plt.show()"
   ]
  },
  {
   "cell_type": "code",
   "execution_count": 63,
   "metadata": {},
   "outputs": [
    {
     "name": "stdout",
     "output_type": "stream",
     "text": [
      "                         genres  domestic_gross\n",
      "11      Action,Adventure,Sci-Fi    1.102470e+10\n",
      "79   Adventure,Animation,Comedy    9.421171e+09\n",
      "8      Action,Adventure,Fantasy    4.378787e+09\n",
      "4       Action,Adventure,Comedy    3.172472e+09\n",
      "245                       Drama    3.066369e+09\n",
      "160                      Comedy    2.355643e+09\n",
      "2    Action,Adventure,Animation    2.175860e+09\n",
      "12    Action,Adventure,Thriller    1.851798e+09\n",
      "202              Comedy,Romance    1.847839e+09\n",
      "24          Action,Comedy,Crime    1.812056e+09\n"
     ]
    }
   ],
   "source": [
    "# Group the data by genre and calculate the total foreign gross for each genre\n",
    "domestic_gross_by_genre = merged_df2.groupby('genres')['domestic_gross'].sum().reset_index()\n",
    "\n",
    "# Sort the genres based on the total foreign gross in descending order\n",
    "domestic_gross_by_genre_sorted = domestic_gross_by_genre.sort_values(by='domestic_gross', ascending=False)\n",
    "\n",
    "# Display the top genres with the highest foreign gross\n",
    "print(domestic_gross_by_genre_sorted.head(10))"
   ]
  },
  {
   "cell_type": "code",
   "execution_count": 64,
   "metadata": {},
   "outputs": [
    {
     "data": {
      "image/png": "[encoded data removed]",
      "text/plain": [
       "<Figure size 720x432 with 1 Axes>"
      ]
     },
     "metadata": {},
     "output_type": "display_data"
    }
   ],
   "source": [
    "# Plot the bar graph using Seaborn to get the top 10 genres with the highest domestic\n",
    "plt.figure(figsize=(10, 6))\n",
    "sns.barplot(x='domestic_gross', y='genres', data=domestic_gross_by_genre_sorted.head(10), palette='twilight_r')\n",
    "plt.xlabel('Domestic Gross')\n",
    "plt.ylabel('Genres')\n",
    "plt.title('Top 10 Genres with Highest domestic Income')\n",
    "plt.grid(which='both', linestyle='--', linewidth=0.8)\n",
    "\n",
    "plt.show()"
   ]
  },
  {
   "cell_type": "markdown",
   "metadata": {},
   "source": [
    "Now finally we have the total_gross column that combines the domestic and foreign revenues and compared against the average ratings of the top 10 genres versus the studios that made them.\n",
    "\n",
    "The outcome we are looking for here is the relationship between the ratings and the revenues of top genres and the studios that produce them. Microsoft would want to pull a bench and take some notes from the best studios that produces highly rated movies so that they can get into the movie business knowing the dos and don'ts of the game."
   ]
  },
  {
   "cell_type": "code",
   "execution_count": 65,
   "metadata": {},
   "outputs": [
    {
     "data": {
      "text/html": [
       "<div>\n",
       "<style scoped>\n",
       "    .dataframe tbody tr th:only-of-type {\n",
       "        vertical-align: middle;\n",
       "    }\n",
       "\n",
       "    .dataframe tbody tr th {\n",
       "        vertical-align: top;\n",
       "    }\n",
       "\n",
       "    .dataframe thead th {\n",
       "        text-align: right;\n",
       "    }\n",
       "</style>\n",
       "<table border=\"1\" class=\"dataframe\">\n",
       "  <thead>\n",
       "    <tr style=\"text-align: right;\">\n",
       "      <th></th>\n",
       "      <th>Genre</th>\n",
       "      <th>Studios</th>\n",
       "    </tr>\n",
       "  </thead>\n",
       "  <tbody>\n",
       "    <tr>\n",
       "      <th>0</th>\n",
       "      <td>Action,Adventure,Sci-Fi</td>\n",
       "      <td>Uni., BV, Par., WB, Sony, Eros, Fox, LGF, P/DW...</td>\n",
       "    </tr>\n",
       "    <tr>\n",
       "      <th>1</th>\n",
       "      <td>Adventure,Animation,Comedy</td>\n",
       "      <td>BV, Sony, Focus, P/DW, Par., LGF, WB, Uni., Fo...</td>\n",
       "    </tr>\n",
       "    <tr>\n",
       "      <th>2</th>\n",
       "      <td>Action,Adventure,Fantasy</td>\n",
       "      <td>WB, BV, Rela., Par., Uni., SGem, LG/S, Sony, S...</td>\n",
       "    </tr>\n",
       "    <tr>\n",
       "      <th>3</th>\n",
       "      <td>Drama</td>\n",
       "      <td>IFC, Focus, RAtt., FoxS, WB, LGF, Fox, WB (NL)...</td>\n",
       "    </tr>\n",
       "    <tr>\n",
       "      <th>4</th>\n",
       "      <td>Action,Adventure,Comedy</td>\n",
       "      <td>BV, Uni., MBox, Fox, WB (NL), FIP, A24, Magn.,...</td>\n",
       "    </tr>\n",
       "    <tr>\n",
       "      <th>5</th>\n",
       "      <td>Action,Adventure,Thriller</td>\n",
       "      <td>Fox, Uni., Sony, Par., LGF, Eros, LG/S, STX, Yash</td>\n",
       "    </tr>\n",
       "    <tr>\n",
       "      <th>6</th>\n",
       "      <td>Action,Adventure,Animation</td>\n",
       "      <td>P/DW, Fox, Par., WB, GK, BV, SV, VE, FUN, Focu...</td>\n",
       "    </tr>\n",
       "    <tr>\n",
       "      <th>7</th>\n",
       "      <td>Comedy</td>\n",
       "      <td>P/DW, W/Dim., Sony, MNE, SGem, Fox, FoxS, Par....</td>\n",
       "    </tr>\n",
       "    <tr>\n",
       "      <th>8</th>\n",
       "      <td>Action,Adventure,Drama</td>\n",
       "      <td>Fox, Sony, WB, Uni., Magn., Focus, Par., WHE, ...</td>\n",
       "    </tr>\n",
       "    <tr>\n",
       "      <th>9</th>\n",
       "      <td>Documentary</td>\n",
       "      <td>Fox, Par., EOne, Focus, Wein., Magn., Uni., Re...</td>\n",
       "    </tr>\n",
       "  </tbody>\n",
       "</table>\n",
       "</div>"
      ],
      "text/plain": [
       "                        Genre  \\\n",
       "0     Action,Adventure,Sci-Fi   \n",
       "1  Adventure,Animation,Comedy   \n",
       "2    Action,Adventure,Fantasy   \n",
       "3                       Drama   \n",
       "4     Action,Adventure,Comedy   \n",
       "5   Action,Adventure,Thriller   \n",
       "6  Action,Adventure,Animation   \n",
       "7                      Comedy   \n",
       "8      Action,Adventure,Drama   \n",
       "9                 Documentary   \n",
       "\n",
       "                                             Studios  \n",
       "0  Uni., BV, Par., WB, Sony, Eros, Fox, LGF, P/DW...  \n",
       "1  BV, Sony, Focus, P/DW, Par., LGF, WB, Uni., Fo...  \n",
       "2  WB, BV, Rela., Par., Uni., SGem, LG/S, Sony, S...  \n",
       "3  IFC, Focus, RAtt., FoxS, WB, LGF, Fox, WB (NL)...  \n",
       "4  BV, Uni., MBox, Fox, WB (NL), FIP, A24, Magn.,...  \n",
       "5  Fox, Uni., Sony, Par., LGF, Eros, LG/S, STX, Yash  \n",
       "6  P/DW, Fox, Par., WB, GK, BV, SV, VE, FUN, Focu...  \n",
       "7  P/DW, W/Dim., Sony, MNE, SGem, Fox, FoxS, Par....  \n",
       "8  Fox, Sony, WB, Uni., Magn., Focus, Par., WHE, ...  \n",
       "9  Fox, Par., EOne, Focus, Wein., Magn., Uni., Re...  "
      ]
     },
     "execution_count": 65,
     "metadata": {},
     "output_type": "execute_result"
    }
   ],
   "source": [
    "genre_gross = merged_df2.groupby('genres')[['domestic_gross', 'foreign_gross']].sum()\n",
    "genre_gross['total_gross'] = genre_gross['domestic_gross'] + genre_gross['foreign_gross']\n",
    "\n",
    "top_profitable_genres = genre_gross.sort_values(by='total_gross', ascending=False).head(10)\n",
    "\n",
    "# Step 3: Create a DataFrame to store the results\n",
    "outcome_df = pd.DataFrame(columns=['Genre', 'Studios'])\n",
    "\n",
    "# Step 4: For each of the top profitable genres, find the studios that made movies in that genre\n",
    "for genre in top_profitable_genres.index:\n",
    "    genre_movies = merged_df2[merged_df2['genres'] == genre]\n",
    "    studios = genre_movies['studio'].unique()\n",
    "    outcome_df = outcome_df.append({'Genre': genre, 'Studios': ', '.join(studios)}, ignore_index=True)\n",
    "\n",
    "# Display the outcome DataFrame  which shows top rated genres and their movie studios\n",
    "outcome_df"
   ]
  },
  {
   "cell_type": "code",
   "execution_count": 66,
   "metadata": {},
   "outputs": [
    {
     "data": {
      "image/png": "[encoded data removed]",
      "text/plain": [
       "<Figure size 720x432 with 1 Axes>"
      ]
     },
     "metadata": {},
     "output_type": "display_data"
    }
   ],
   "source": [
    "# we can also quickly get the 10 ten successful studios in terms of total revenue\n",
    "# Group the data by 'studio' and calculate the total gross revenue for each studio\n",
    "studio_gross = gross.groupby('studio')[['domestic_gross', 'foreign_gross']].sum()\n",
    "\n",
    "# Calculate the total gross revenue by adding 'domestic_gross' and 'foreign_gross'\n",
    "studio_gross['total_gross'] = studio_gross['domestic_gross'] + studio_gross['foreign_gross']\n",
    "\n",
    "# Sort the studios based on total gross revenue in descending order\n",
    "studio_gross_sorted = studio_gross.sort_values(by='total_gross', ascending=False)\n",
    "\n",
    "# Select the top ten studios\n",
    "top_10_studios = studio_gross_sorted.head(10)\n",
    "\n",
    "# Plot the horizontal bar chart\n",
    "plt.figure(figsize=(10, 6))\n",
    "sns.barplot(x=top_10_studios['total_gross'], y=top_10_studios.index, palette='viridis')\n",
    "plt.xlabel('Total Gross Revenue')\n",
    "plt.ylabel('Studios')\n",
    "plt.title('Top 10 Successful Studios by Total Gross Revenue')\n",
    "\n",
    "plt.show()"
   ]
  },
  {
   "cell_type": "code",
   "execution_count": 67,
   "metadata": {},
   "outputs": [
    {
     "name": "stdout",
     "output_type": "stream",
     "text": [
      "                         genres  domestic_gross\n",
      "11      Action,Adventure,Sci-Fi    1.102470e+10\n",
      "79   Adventure,Animation,Comedy    9.421171e+09\n",
      "8      Action,Adventure,Fantasy    4.378787e+09\n",
      "4       Action,Adventure,Comedy    3.172472e+09\n",
      "245                       Drama    3.066369e+09\n",
      "160                      Comedy    2.355643e+09\n",
      "2    Action,Adventure,Animation    2.175860e+09\n",
      "12    Action,Adventure,Thriller    1.851798e+09\n",
      "202              Comedy,Romance    1.847839e+09\n",
      "24          Action,Comedy,Crime    1.812056e+09\n"
     ]
    }
   ],
   "source": [
    "# Group the data by genre and calculate the total domestic gross for each genre\n",
    "domestic_gross_by_genre = merged_df2.groupby('genres')['domestic_gross'].sum().reset_index()\n",
    "\n",
    "# Sort the genres based on the total foreign gross in descending order\n",
    "domestic_gross_by_genre_sorted = domestic_gross_by_genre.sort_values(by='domestic_gross', ascending=False)\n",
    "\n",
    "# Display the top genres with the highest foreign gross\n",
    "print(domestic_gross_by_genre_sorted.head(10))"
   ]
  },
  {
   "cell_type": "markdown",
   "metadata": {},
   "source": [
    "When we combine the domestic and foreign revenues visually we can see that foreign revenue is more than the domestic revenue in all the genre types, this means that the movies that are produed sell more in international markets as opposed to the foreign markets, this now brings us now to our next question and the last one about foreign markets."
   ]
  },
  {
   "cell_type": "code",
   "execution_count": 68,
   "metadata": {},
   "outputs": [
    {
     "data": {
      "text/html": [
       "<div>\n",
       "<style scoped>\n",
       "    .dataframe tbody tr th:only-of-type {\n",
       "        vertical-align: middle;\n",
       "    }\n",
       "\n",
       "    .dataframe tbody tr th {\n",
       "        vertical-align: top;\n",
       "    }\n",
       "\n",
       "    .dataframe thead th {\n",
       "        text-align: right;\n",
       "    }\n",
       "</style>\n",
       "<table border=\"1\" class=\"dataframe\">\n",
       "  <thead>\n",
       "    <tr style=\"text-align: right;\">\n",
       "      <th></th>\n",
       "      <th>domestic_gross</th>\n",
       "      <th>foreign_gross</th>\n",
       "      <th>total_gross</th>\n",
       "    </tr>\n",
       "    <tr>\n",
       "      <th>genres</th>\n",
       "      <th></th>\n",
       "      <th></th>\n",
       "      <th></th>\n",
       "    </tr>\n",
       "  </thead>\n",
       "  <tbody>\n",
       "    <tr>\n",
       "      <th>Action,Adventure,Sci-Fi</th>\n",
       "      <td>1.102470e+10</td>\n",
       "      <td>1.663010e+10</td>\n",
       "      <td>2.765480e+10</td>\n",
       "    </tr>\n",
       "    <tr>\n",
       "      <th>Adventure,Animation,Comedy</th>\n",
       "      <td>9.421171e+09</td>\n",
       "      <td>1.758370e+10</td>\n",
       "      <td>2.700487e+10</td>\n",
       "    </tr>\n",
       "    <tr>\n",
       "      <th>Action,Adventure,Fantasy</th>\n",
       "      <td>4.378787e+09</td>\n",
       "      <td>8.936100e+09</td>\n",
       "      <td>1.331489e+10</td>\n",
       "    </tr>\n",
       "    <tr>\n",
       "      <th>Drama</th>\n",
       "      <td>3.066369e+09</td>\n",
       "      <td>7.200962e+09</td>\n",
       "      <td>1.026733e+10</td>\n",
       "    </tr>\n",
       "    <tr>\n",
       "      <th>Action,Adventure,Comedy</th>\n",
       "      <td>3.172472e+09</td>\n",
       "      <td>6.625100e+09</td>\n",
       "      <td>9.797572e+09</td>\n",
       "    </tr>\n",
       "    <tr>\n",
       "      <th>Action,Adventure,Thriller</th>\n",
       "      <td>1.851798e+09</td>\n",
       "      <td>4.767000e+09</td>\n",
       "      <td>6.618798e+09</td>\n",
       "    </tr>\n",
       "    <tr>\n",
       "      <th>Action,Adventure,Animation</th>\n",
       "      <td>2.175860e+09</td>\n",
       "      <td>4.344300e+09</td>\n",
       "      <td>6.520160e+09</td>\n",
       "    </tr>\n",
       "    <tr>\n",
       "      <th>Comedy</th>\n",
       "      <td>2.355643e+09</td>\n",
       "      <td>3.153874e+09</td>\n",
       "      <td>5.509516e+09</td>\n",
       "    </tr>\n",
       "    <tr>\n",
       "      <th>Action,Adventure,Drama</th>\n",
       "      <td>1.754973e+09</td>\n",
       "      <td>3.737464e+09</td>\n",
       "      <td>5.492437e+09</td>\n",
       "    </tr>\n",
       "    <tr>\n",
       "      <th>Documentary</th>\n",
       "      <td>1.788934e+09</td>\n",
       "      <td>3.182854e+09</td>\n",
       "      <td>4.971788e+09</td>\n",
       "    </tr>\n",
       "  </tbody>\n",
       "</table>\n",
       "</div>"
      ],
      "text/plain": [
       "                            domestic_gross  foreign_gross   total_gross\n",
       "genres                                                                 \n",
       "Action,Adventure,Sci-Fi       1.102470e+10   1.663010e+10  2.765480e+10\n",
       "Adventure,Animation,Comedy    9.421171e+09   1.758370e+10  2.700487e+10\n",
       "Action,Adventure,Fantasy      4.378787e+09   8.936100e+09  1.331489e+10\n",
       "Drama                         3.066369e+09   7.200962e+09  1.026733e+10\n",
       "Action,Adventure,Comedy       3.172472e+09   6.625100e+09  9.797572e+09\n",
       "Action,Adventure,Thriller     1.851798e+09   4.767000e+09  6.618798e+09\n",
       "Action,Adventure,Animation    2.175860e+09   4.344300e+09  6.520160e+09\n",
       "Comedy                        2.355643e+09   3.153874e+09  5.509516e+09\n",
       "Action,Adventure,Drama        1.754973e+09   3.737464e+09  5.492437e+09\n",
       "Documentary                   1.788934e+09   3.182854e+09  4.971788e+09"
      ]
     },
     "execution_count": 68,
     "metadata": {},
     "output_type": "execute_result"
    }
   ],
   "source": [
    "# Group the data by 'genres' and calculate the total gross revenue for each genre\n",
    "genre_gross = merged_df2.groupby('genres')[['domestic_gross', 'foreign_gross']].sum()\n",
    "\n",
    "# Calculate the total gross revenue by adding 'domestic_gross' and 'foreign_gross'\n",
    "genre_gross['total_gross'] = genre_gross['domestic_gross'] + genre_gross['foreign_gross']\n",
    "\n",
    "# Sort the genres based on total gross revenue in descending order\n",
    "genre_gross_sorted = genre_gross.sort_values(by='total_gross', ascending=False)\n",
    "\n",
    "# Select the top ten genres\n",
    "top_10_genres = genre_gross_sorted.head(10)\n",
    "\n",
    "top_10_genres"
   ]
  },
  {
   "cell_type": "code",
   "execution_count": 69,
   "metadata": {},
   "outputs": [
    {
     "data": {
      "image/png": "[encoded data removed]",
      "text/plain": [
       "<Figure size 720x432 with 1 Axes>"
      ]
     },
     "metadata": {},
     "output_type": "display_data"
    }
   ],
   "source": [
    "# Create custom color palettes for domestic and foreign gross\n",
    "domestic_color = sns.color_palette(\"bone_r\", 1)[0]  # Choose a color for domestic gross\n",
    "foreign_color = sns.color_palette(\"plasma\", 1)[0]   # Choose a color for foreign gross\n",
    "\n",
    "# Plot the horizontal bar chart with stacked bars\n",
    "plt.figure(figsize=(10, 6))\n",
    "ax = sns.barplot(x=top_10_genres['total_gross'], y=top_10_genres.index, color=foreign_color)\n",
    "sns.barplot(x=top_10_genres['domestic_gross'], y=top_10_genres.index, color=domestic_color)\n",
    "\n",
    "# Create a custom legend manually\n",
    "legend_labels = ['Foreign Gross', 'Domestic Gross']\n",
    "legend_handles = [plt.Rectangle((0, 0), 1, 1, fc=foreign_color, edgecolor='none'),\n",
    "                  plt.Rectangle((0, 0), 1, 1, fc=domestic_color, edgecolor='none')]\n",
    "ax.legend(legend_handles, legend_labels)\n",
    "\n",
    "plt.xlabel('Total Gross Revenue')\n",
    "plt.ylabel('Genres')\n",
    "plt.title('Top 10 Profitable Genres (Domestic + Foreign Gross)')\n",
    "\n",
    "plt.show()"
   ]
  },
  {
   "cell_type": "markdown",
   "metadata": {},
   "source": [
    "The fourth questions to be tackled is;\n",
    "\n",
    "4.Exploring International market opportunities of movies.\n",
    "\n",
    "We can also explore the difference that sets in between the domestic_gross and foreign_gross of the release years from 2010 to 2018.\n",
    "From the line graph below we can see that on average foreign_gross has been doing well in terms of revenue as compared to the domestic_gross, this can give Microsoft the idea of venturing into foreign markets when they begin to release their movies."
   ]
  },
  {
   "cell_type": "code",
   "execution_count": 70,
   "metadata": {},
   "outputs": [
    {
     "data": {
      "image/png": "[encoded data removed]",
      "text/plain": [
       "<Figure size 720x432 with 1 Axes>"
      ]
     },
     "metadata": {},
     "output_type": "display_data"
    }
   ],
   "source": [
    "# Group the data by release year and calculate the total domestic and foreign gross for each year\n",
    "gross_by_year = merged_df2.groupby('release_year')[['domestic_gross', 'foreign_gross']].sum()\n",
    "\n",
    "# Plot the line graph\n",
    "plt.figure(figsize=(10, 6))\n",
    "plt.plot(gross_by_year.index, gross_by_year['domestic_gross'], label='Domestic Gross', marker='o', linestyle='-')\n",
    "plt.plot(gross_by_year.index, gross_by_year['foreign_gross'], label='Foreign Gross', marker='o', linestyle='-')\n",
    "plt.xlabel('Release Year')\n",
    "plt.ylabel('Gross Revenue')\n",
    "plt.title('Domestic Gross and Foreign Gross over the Years')\n",
    "plt.legend()\n",
    "plt.grid(True)\n",
    "\n",
    "plt.show()"
   ]
  },
  {
   "cell_type": "markdown",
   "metadata": {},
   "source": [
    "Here we are just analyzing the foreign revenue alone and how the income grows from the least preferred to the most liked genres of the top 25 movies"
   ]
  },
  {
   "cell_type": "code",
   "execution_count": 71,
   "metadata": {},
   "outputs": [
    {
     "data": {
      "image/png": "[encoded data removed]",
      "text/plain": [
       "<Figure size 720x432 with 1 Axes>"
      ]
     },
     "metadata": {},
     "output_type": "display_data"
    }
   ],
   "source": [
    "# Create the swarm plot using Seaborn\n",
    "plt.figure(figsize=(10, 6))\n",
    "sns.swarmplot(x='foreign_gross', y='genres', data=foreign_gross_by_genre_sorted.head(25), palette='viridis')\n",
    "plt.xlabel('Foreign Gross')\n",
    "plt.ylabel('Genres')\n",
    "plt.title('Top 25 Genres with Highest Foreign Income')\n",
    "plt.show()"
   ]
  },
  {
   "cell_type": "code",
   "execution_count": 72,
   "metadata": {},
   "outputs": [
    {
     "data": {
      "text/html": [
       "<div>\n",
       "<style scoped>\n",
       "    .dataframe tbody tr th:only-of-type {\n",
       "        vertical-align: middle;\n",
       "    }\n",
       "\n",
       "    .dataframe tbody tr th {\n",
       "        vertical-align: top;\n",
       "    }\n",
       "\n",
       "    .dataframe thead th {\n",
       "        text-align: right;\n",
       "    }\n",
       "</style>\n",
       "<table border=\"1\" class=\"dataframe\">\n",
       "  <thead>\n",
       "    <tr style=\"text-align: right;\">\n",
       "      <th></th>\n",
       "      <th>genres</th>\n",
       "      <th>numvotes</th>\n",
       "    </tr>\n",
       "  </thead>\n",
       "  <tbody>\n",
       "    <tr>\n",
       "      <th>11</th>\n",
       "      <td>Action,Adventure,Sci-Fi</td>\n",
       "      <td>19721992</td>\n",
       "    </tr>\n",
       "    <tr>\n",
       "      <th>79</th>\n",
       "      <td>Adventure,Animation,Comedy</td>\n",
       "      <td>7890599</td>\n",
       "    </tr>\n",
       "    <tr>\n",
       "      <th>8</th>\n",
       "      <td>Action,Adventure,Fantasy</td>\n",
       "      <td>7763568</td>\n",
       "    </tr>\n",
       "    <tr>\n",
       "      <th>4</th>\n",
       "      <td>Action,Adventure,Comedy</td>\n",
       "      <td>5800318</td>\n",
       "    </tr>\n",
       "    <tr>\n",
       "      <th>179</th>\n",
       "      <td>Comedy,Drama,Romance</td>\n",
       "      <td>5784543</td>\n",
       "    </tr>\n",
       "    <tr>\n",
       "      <th>245</th>\n",
       "      <td>Drama</td>\n",
       "      <td>4704459</td>\n",
       "    </tr>\n",
       "    <tr>\n",
       "      <th>38</th>\n",
       "      <td>Action,Crime,Drama</td>\n",
       "      <td>3970171</td>\n",
       "    </tr>\n",
       "    <tr>\n",
       "      <th>6</th>\n",
       "      <td>Action,Adventure,Drama</td>\n",
       "      <td>3856948</td>\n",
       "    </tr>\n",
       "    <tr>\n",
       "      <th>160</th>\n",
       "      <td>Comedy</td>\n",
       "      <td>3849969</td>\n",
       "    </tr>\n",
       "    <tr>\n",
       "      <th>12</th>\n",
       "      <td>Action,Adventure,Thriller</td>\n",
       "      <td>3634468</td>\n",
       "    </tr>\n",
       "  </tbody>\n",
       "</table>\n",
       "</div>"
      ],
      "text/plain": [
       "                         genres  numvotes\n",
       "11      Action,Adventure,Sci-Fi  19721992\n",
       "79   Adventure,Animation,Comedy   7890599\n",
       "8      Action,Adventure,Fantasy   7763568\n",
       "4       Action,Adventure,Comedy   5800318\n",
       "179        Comedy,Drama,Romance   5784543\n",
       "245                       Drama   4704459\n",
       "38           Action,Crime,Drama   3970171\n",
       "6        Action,Adventure,Drama   3856948\n",
       "160                      Comedy   3849969\n",
       "12    Action,Adventure,Thriller   3634468"
      ]
     },
     "execution_count": 72,
     "metadata": {},
     "output_type": "execute_result"
    }
   ],
   "source": [
    "# Group the data by genre and calculate the total number of votes for each genre\n",
    "votes_by_genre = merged_df2.groupby('genres')['numvotes'].sum().reset_index()\n",
    "\n",
    "# Sort the genres based on the total number of votes in descending order\n",
    "votes_by_genre_sorted = votes_by_genre.sort_values(by='numvotes', ascending=False)\n",
    "\n",
    "# Select the top 10 genres with the highest number of votes\n",
    "top_10_genres_votes = votes_by_genre_sorted.head(10)\n",
    "top_10_genres_votes"
   ]
  },
  {
   "cell_type": "code",
   "execution_count": 73,
   "metadata": {
    "scrolled": true
   },
   "outputs": [
    {
     "data": {
      "image/png": "[encoded data removed]",
      "text/plain": [
       "<Figure size 720x432 with 1 Axes>"
      ]
     },
     "metadata": {},
     "output_type": "display_data"
    }
   ],
   "source": [
    "# Plot the bar graph\n",
    "plt.figure(figsize=(10, 6))\n",
    "sns.barplot(x='numvotes', y='genres', data=top_10_genres_votes, palette='coolwarm')\n",
    "plt.xlabel('Number of Votes')\n",
    "plt.ylabel('Genres')\n",
    "plt.title('Top 10 Genres with Highest Number of Votes')\n",
    "plt.grid(which='both', linestyle='--', linewidth=0.8)\n",
    "\n",
    "plt.show()"
   ]
  },
  {
   "cell_type": "markdown",
   "metadata": {},
   "source": [
    "## Recommendations\n",
    "\n",
    "Some of the recommendations that can be given to the microsoft team based on the analysis of the three datasest are;\n",
    "\n",
    "1. More focus should be directed to popular genres in terms of the most voted, such as Action, Adventure, Sci-Fi, Animation, Comedy and Fantasy and the genres with the highest average ratings such as Adventure, Action, Sport, Biography and Documentary because they tend to be more profitable at the box office. \n",
    "Microsoft's new movie studio should consider producing movies in these popular genres to increase their chances of success.\n",
    "\n",
    "2. Exploring partnerships with international markets. The analysis of top-performing movie genres by foreign gross revenue should reveal other potential partners for Microsoft's new movie studio. Collaborating with studios who know have studied the preference of foreign audiences can help share resources, expertise, and distribution channels hence improving the chances of success for new movie releases.\n",
    "\n",
    "3. Microsoft should focus on High Revenue-Generating Studios. Identifying the studios with the highest total gross revenue can guide Microsoft in selecting distribution partners and gaining insights into successful marketing and production strategies.\n",
    "\n",
    "4. Trends in release years is an important aspect as well. Analyzing the trend in movie release years can help Microsoft's movie studio plan its movie production pipeline. Identifying peak years for movie releases can be beneficial in allocating resources and maximizing revenue."
   ]
  },
  {
   "cell_type": "markdown",
   "metadata": {},
   "source": [
    "## Conclusion\n",
    "\n",
    "In conclusion all I can say is that the analysis of the three datasets combined gives us an insight of the key features that play a role in the success of movie production, its not just one aspect but many including ratings,release year, popularity, the target audience whether domestic or international and the revenues they make. There are also hidden factors that also need to be looked into like how the budget allocation for the movie production can also determine the success of the movies.\n",
    "\n",
    "Generally Microsoft cannot go wrong with this analysis if they follow the recommendations given to the letter, I mean what would possibly go wrong when they can get to learn from some of the best movie producers like Buena Vista, Fox and Warner Bros."
   ]
  }
 ],
 "metadata": {
  "kernelspec": {
   "display_name": "Python 3",
   "language": "python",
   "name": "python3"
  },
  "language_info": {
   "codemirror_mode": {
    "name": "ipython",
    "version": 3
   },
   "file_extension": ".py",
   "mimetype": "text/x-python",
   "name": "python",
   "nbconvert_exporter": "python",
   "pygments_lexer": "ipython3",
   "version": "3.8.5"
  }
 },
 "nbformat": 4,
 "nbformat_minor": 2
}
